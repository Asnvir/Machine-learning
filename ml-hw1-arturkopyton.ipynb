{
 "cells": [
  {
   "cell_type": "code",
   "execution_count": 1,
   "id": "851a9d4f",
   "metadata": {
    "execution": {
     "iopub.execute_input": "2022-12-06T20:31:53.929611Z",
     "iopub.status.busy": "2022-12-06T20:31:53.929109Z",
     "iopub.status.idle": "2022-12-06T20:31:55.574271Z",
     "shell.execute_reply": "2022-12-06T20:31:55.572993Z"
    },
    "papermill": {
     "duration": 1.677542,
     "end_time": "2022-12-06T20:31:55.577652",
     "exception": false,
     "start_time": "2022-12-06T20:31:53.900110",
     "status": "completed"
    },
    "tags": []
   },
   "outputs": [],
   "source": [
    "import numpy as np \n",
    "import pandas as pd\n",
    "import matplotlib.pyplot as plt\n",
    "import seaborn as sns\n",
    "plt.style.use('fivethirtyeight')\n",
    "import warnings\n",
    "warnings.filterwarnings('ignore')\n",
    "%matplotlib inline\n",
    "\n",
    "\n",
    "# sklearn imports\n",
    "import sklearn\n",
    "from sklearn import metrics\n",
    "from sklearn import datasets\n",
    "from sklearn import pipeline\n",
    "from sklearn import linear_model\n",
    "from sklearn import preprocessing\n",
    "from sklearn import model_selection"
   ]
  },
  {
   "cell_type": "code",
   "execution_count": 2,
   "id": "90832479",
   "metadata": {
    "execution": {
     "iopub.execute_input": "2022-12-06T20:31:55.629290Z",
     "iopub.status.busy": "2022-12-06T20:31:55.628861Z",
     "iopub.status.idle": "2022-12-06T20:31:55.636849Z",
     "shell.execute_reply": "2022-12-06T20:31:55.635592Z"
    },
    "papermill": {
     "duration": 0.036734,
     "end_time": "2022-12-06T20:31:55.639398",
     "exception": false,
     "start_time": "2022-12-06T20:31:55.602664",
     "status": "completed"
    },
    "tags": []
   },
   "outputs": [
    {
     "name": "stdout",
     "output_type": "stream",
     "text": [
      "/kaggle/input/titanic/train.csv\n",
      "/kaggle/input/titanic/test.csv\n",
      "/kaggle/input/titanic/gender_submission.csv\n"
     ]
    }
   ],
   "source": [
    "import os\n",
    "for dirname, _, filenames in os.walk('/kaggle/input'):\n",
    "    for filename in filenames:\n",
    "        print(os.path.join(dirname, filename))"
   ]
  },
  {
   "cell_type": "code",
   "execution_count": 3,
   "id": "809eccac",
   "metadata": {
    "execution": {
     "iopub.execute_input": "2022-12-06T20:31:55.691732Z",
     "iopub.status.busy": "2022-12-06T20:31:55.690598Z",
     "iopub.status.idle": "2022-12-06T20:31:55.728170Z",
     "shell.execute_reply": "2022-12-06T20:31:55.727217Z"
    },
    "papermill": {
     "duration": 0.066689,
     "end_time": "2022-12-06T20:31:55.731071",
     "exception": false,
     "start_time": "2022-12-06T20:31:55.664382",
     "status": "completed"
    },
    "tags": []
   },
   "outputs": [],
   "source": [
    "train_df = pd.read_csv('/kaggle/input/titanic/train.csv')\n",
    "test_df = pd.read_csv('/kaggle/input/titanic/test.csv')\n",
    "gender_submission_df = pd.read_csv('/kaggle/input/titanic/gender_submission.csv')"
   ]
  },
  {
   "cell_type": "markdown",
   "id": "d1377a7b",
   "metadata": {
    "papermill": {
     "duration": 0.02403,
     "end_time": "2022-12-06T20:31:55.780136",
     "exception": false,
     "start_time": "2022-12-06T20:31:55.756106",
     "status": "completed"
    },
    "tags": []
   },
   "source": [
    "# 1. EDA"
   ]
  },
  {
   "cell_type": "code",
   "execution_count": 4,
   "id": "9a7084ce",
   "metadata": {
    "execution": {
     "iopub.execute_input": "2022-12-06T20:31:55.831941Z",
     "iopub.status.busy": "2022-12-06T20:31:55.830603Z",
     "iopub.status.idle": "2022-12-06T20:31:55.860717Z",
     "shell.execute_reply": "2022-12-06T20:31:55.859309Z"
    },
    "papermill": {
     "duration": 0.058995,
     "end_time": "2022-12-06T20:31:55.863475",
     "exception": false,
     "start_time": "2022-12-06T20:31:55.804480",
     "status": "completed"
    },
    "tags": []
   },
   "outputs": [
    {
     "data": {
      "text/html": [
       "<div>\n",
       "<style scoped>\n",
       "    .dataframe tbody tr th:only-of-type {\n",
       "        vertical-align: middle;\n",
       "    }\n",
       "\n",
       "    .dataframe tbody tr th {\n",
       "        vertical-align: top;\n",
       "    }\n",
       "\n",
       "    .dataframe thead th {\n",
       "        text-align: right;\n",
       "    }\n",
       "</style>\n",
       "<table border=\"1\" class=\"dataframe\">\n",
       "  <thead>\n",
       "    <tr style=\"text-align: right;\">\n",
       "      <th></th>\n",
       "      <th>PassengerId</th>\n",
       "      <th>Survived</th>\n",
       "      <th>Pclass</th>\n",
       "      <th>Name</th>\n",
       "      <th>Sex</th>\n",
       "      <th>Age</th>\n",
       "      <th>SibSp</th>\n",
       "      <th>Parch</th>\n",
       "      <th>Ticket</th>\n",
       "      <th>Fare</th>\n",
       "      <th>Cabin</th>\n",
       "      <th>Embarked</th>\n",
       "    </tr>\n",
       "  </thead>\n",
       "  <tbody>\n",
       "    <tr>\n",
       "      <th>0</th>\n",
       "      <td>1</td>\n",
       "      <td>0</td>\n",
       "      <td>3</td>\n",
       "      <td>Braund, Mr. Owen Harris</td>\n",
       "      <td>male</td>\n",
       "      <td>22.0</td>\n",
       "      <td>1</td>\n",
       "      <td>0</td>\n",
       "      <td>A/5 21171</td>\n",
       "      <td>7.2500</td>\n",
       "      <td>NaN</td>\n",
       "      <td>S</td>\n",
       "    </tr>\n",
       "    <tr>\n",
       "      <th>1</th>\n",
       "      <td>2</td>\n",
       "      <td>1</td>\n",
       "      <td>1</td>\n",
       "      <td>Cumings, Mrs. John Bradley (Florence Briggs Th...</td>\n",
       "      <td>female</td>\n",
       "      <td>38.0</td>\n",
       "      <td>1</td>\n",
       "      <td>0</td>\n",
       "      <td>PC 17599</td>\n",
       "      <td>71.2833</td>\n",
       "      <td>C85</td>\n",
       "      <td>C</td>\n",
       "    </tr>\n",
       "    <tr>\n",
       "      <th>2</th>\n",
       "      <td>3</td>\n",
       "      <td>1</td>\n",
       "      <td>3</td>\n",
       "      <td>Heikkinen, Miss. Laina</td>\n",
       "      <td>female</td>\n",
       "      <td>26.0</td>\n",
       "      <td>0</td>\n",
       "      <td>0</td>\n",
       "      <td>STON/O2. 3101282</td>\n",
       "      <td>7.9250</td>\n",
       "      <td>NaN</td>\n",
       "      <td>S</td>\n",
       "    </tr>\n",
       "    <tr>\n",
       "      <th>3</th>\n",
       "      <td>4</td>\n",
       "      <td>1</td>\n",
       "      <td>1</td>\n",
       "      <td>Futrelle, Mrs. Jacques Heath (Lily May Peel)</td>\n",
       "      <td>female</td>\n",
       "      <td>35.0</td>\n",
       "      <td>1</td>\n",
       "      <td>0</td>\n",
       "      <td>113803</td>\n",
       "      <td>53.1000</td>\n",
       "      <td>C123</td>\n",
       "      <td>S</td>\n",
       "    </tr>\n",
       "    <tr>\n",
       "      <th>4</th>\n",
       "      <td>5</td>\n",
       "      <td>0</td>\n",
       "      <td>3</td>\n",
       "      <td>Allen, Mr. William Henry</td>\n",
       "      <td>male</td>\n",
       "      <td>35.0</td>\n",
       "      <td>0</td>\n",
       "      <td>0</td>\n",
       "      <td>373450</td>\n",
       "      <td>8.0500</td>\n",
       "      <td>NaN</td>\n",
       "      <td>S</td>\n",
       "    </tr>\n",
       "  </tbody>\n",
       "</table>\n",
       "</div>"
      ],
      "text/plain": [
       "   PassengerId  Survived  Pclass  \\\n",
       "0            1         0       3   \n",
       "1            2         1       1   \n",
       "2            3         1       3   \n",
       "3            4         1       1   \n",
       "4            5         0       3   \n",
       "\n",
       "                                                Name     Sex   Age  SibSp  \\\n",
       "0                            Braund, Mr. Owen Harris    male  22.0      1   \n",
       "1  Cumings, Mrs. John Bradley (Florence Briggs Th...  female  38.0      1   \n",
       "2                             Heikkinen, Miss. Laina  female  26.0      0   \n",
       "3       Futrelle, Mrs. Jacques Heath (Lily May Peel)  female  35.0      1   \n",
       "4                           Allen, Mr. William Henry    male  35.0      0   \n",
       "\n",
       "   Parch            Ticket     Fare Cabin Embarked  \n",
       "0      0         A/5 21171   7.2500   NaN        S  \n",
       "1      0          PC 17599  71.2833   C85        C  \n",
       "2      0  STON/O2. 3101282   7.9250   NaN        S  \n",
       "3      0            113803  53.1000  C123        S  \n",
       "4      0            373450   8.0500   NaN        S  "
      ]
     },
     "execution_count": 4,
     "metadata": {},
     "output_type": "execute_result"
    }
   ],
   "source": [
    "train_df.head()"
   ]
  },
  {
   "cell_type": "code",
   "execution_count": 5,
   "id": "a83c2e0e",
   "metadata": {
    "execution": {
     "iopub.execute_input": "2022-12-06T20:31:55.915381Z",
     "iopub.status.busy": "2022-12-06T20:31:55.914934Z",
     "iopub.status.idle": "2022-12-06T20:31:55.923409Z",
     "shell.execute_reply": "2022-12-06T20:31:55.922487Z"
    },
    "papermill": {
     "duration": 0.036774,
     "end_time": "2022-12-06T20:31:55.925512",
     "exception": false,
     "start_time": "2022-12-06T20:31:55.888738",
     "status": "completed"
    },
    "tags": []
   },
   "outputs": [
    {
     "data": {
      "text/plain": [
       "PassengerId      int64\n",
       "Survived         int64\n",
       "Pclass           int64\n",
       "Name            object\n",
       "Sex             object\n",
       "Age            float64\n",
       "SibSp            int64\n",
       "Parch            int64\n",
       "Ticket          object\n",
       "Fare           float64\n",
       "Cabin           object\n",
       "Embarked        object\n",
       "dtype: object"
      ]
     },
     "execution_count": 5,
     "metadata": {},
     "output_type": "execute_result"
    }
   ],
   "source": [
    "train_df.dtypes"
   ]
  },
  {
   "cell_type": "code",
   "execution_count": 6,
   "id": "411935df",
   "metadata": {
    "execution": {
     "iopub.execute_input": "2022-12-06T20:31:55.977548Z",
     "iopub.status.busy": "2022-12-06T20:31:55.977112Z",
     "iopub.status.idle": "2022-12-06T20:31:56.024218Z",
     "shell.execute_reply": "2022-12-06T20:31:56.022827Z"
    },
    "papermill": {
     "duration": 0.076531,
     "end_time": "2022-12-06T20:31:56.026866",
     "exception": false,
     "start_time": "2022-12-06T20:31:55.950335",
     "status": "completed"
    },
    "tags": []
   },
   "outputs": [
    {
     "data": {
      "text/html": [
       "<div>\n",
       "<style scoped>\n",
       "    .dataframe tbody tr th:only-of-type {\n",
       "        vertical-align: middle;\n",
       "    }\n",
       "\n",
       "    .dataframe tbody tr th {\n",
       "        vertical-align: top;\n",
       "    }\n",
       "\n",
       "    .dataframe thead th {\n",
       "        text-align: right;\n",
       "    }\n",
       "</style>\n",
       "<table border=\"1\" class=\"dataframe\">\n",
       "  <thead>\n",
       "    <tr style=\"text-align: right;\">\n",
       "      <th></th>\n",
       "      <th>PassengerId</th>\n",
       "      <th>Survived</th>\n",
       "      <th>Pclass</th>\n",
       "      <th>Age</th>\n",
       "      <th>SibSp</th>\n",
       "      <th>Parch</th>\n",
       "      <th>Fare</th>\n",
       "    </tr>\n",
       "  </thead>\n",
       "  <tbody>\n",
       "    <tr>\n",
       "      <th>count</th>\n",
       "      <td>891.000000</td>\n",
       "      <td>891.000000</td>\n",
       "      <td>891.000000</td>\n",
       "      <td>714.000000</td>\n",
       "      <td>891.000000</td>\n",
       "      <td>891.000000</td>\n",
       "      <td>891.000000</td>\n",
       "    </tr>\n",
       "    <tr>\n",
       "      <th>mean</th>\n",
       "      <td>446.000000</td>\n",
       "      <td>0.383838</td>\n",
       "      <td>2.308642</td>\n",
       "      <td>29.699118</td>\n",
       "      <td>0.523008</td>\n",
       "      <td>0.381594</td>\n",
       "      <td>32.204208</td>\n",
       "    </tr>\n",
       "    <tr>\n",
       "      <th>std</th>\n",
       "      <td>257.353842</td>\n",
       "      <td>0.486592</td>\n",
       "      <td>0.836071</td>\n",
       "      <td>14.526497</td>\n",
       "      <td>1.102743</td>\n",
       "      <td>0.806057</td>\n",
       "      <td>49.693429</td>\n",
       "    </tr>\n",
       "    <tr>\n",
       "      <th>min</th>\n",
       "      <td>1.000000</td>\n",
       "      <td>0.000000</td>\n",
       "      <td>1.000000</td>\n",
       "      <td>0.420000</td>\n",
       "      <td>0.000000</td>\n",
       "      <td>0.000000</td>\n",
       "      <td>0.000000</td>\n",
       "    </tr>\n",
       "    <tr>\n",
       "      <th>25%</th>\n",
       "      <td>223.500000</td>\n",
       "      <td>0.000000</td>\n",
       "      <td>2.000000</td>\n",
       "      <td>20.125000</td>\n",
       "      <td>0.000000</td>\n",
       "      <td>0.000000</td>\n",
       "      <td>7.910400</td>\n",
       "    </tr>\n",
       "    <tr>\n",
       "      <th>50%</th>\n",
       "      <td>446.000000</td>\n",
       "      <td>0.000000</td>\n",
       "      <td>3.000000</td>\n",
       "      <td>28.000000</td>\n",
       "      <td>0.000000</td>\n",
       "      <td>0.000000</td>\n",
       "      <td>14.454200</td>\n",
       "    </tr>\n",
       "    <tr>\n",
       "      <th>75%</th>\n",
       "      <td>668.500000</td>\n",
       "      <td>1.000000</td>\n",
       "      <td>3.000000</td>\n",
       "      <td>38.000000</td>\n",
       "      <td>1.000000</td>\n",
       "      <td>0.000000</td>\n",
       "      <td>31.000000</td>\n",
       "    </tr>\n",
       "    <tr>\n",
       "      <th>max</th>\n",
       "      <td>891.000000</td>\n",
       "      <td>1.000000</td>\n",
       "      <td>3.000000</td>\n",
       "      <td>80.000000</td>\n",
       "      <td>8.000000</td>\n",
       "      <td>6.000000</td>\n",
       "      <td>512.329200</td>\n",
       "    </tr>\n",
       "  </tbody>\n",
       "</table>\n",
       "</div>"
      ],
      "text/plain": [
       "       PassengerId    Survived      Pclass         Age       SibSp  \\\n",
       "count   891.000000  891.000000  891.000000  714.000000  891.000000   \n",
       "mean    446.000000    0.383838    2.308642   29.699118    0.523008   \n",
       "std     257.353842    0.486592    0.836071   14.526497    1.102743   \n",
       "min       1.000000    0.000000    1.000000    0.420000    0.000000   \n",
       "25%     223.500000    0.000000    2.000000   20.125000    0.000000   \n",
       "50%     446.000000    0.000000    3.000000   28.000000    0.000000   \n",
       "75%     668.500000    1.000000    3.000000   38.000000    1.000000   \n",
       "max     891.000000    1.000000    3.000000   80.000000    8.000000   \n",
       "\n",
       "            Parch        Fare  \n",
       "count  891.000000  891.000000  \n",
       "mean     0.381594   32.204208  \n",
       "std      0.806057   49.693429  \n",
       "min      0.000000    0.000000  \n",
       "25%      0.000000    7.910400  \n",
       "50%      0.000000   14.454200  \n",
       "75%      0.000000   31.000000  \n",
       "max      6.000000  512.329200  "
      ]
     },
     "execution_count": 6,
     "metadata": {},
     "output_type": "execute_result"
    }
   ],
   "source": [
    "train_df.describe()\n"
   ]
  },
  {
   "cell_type": "code",
   "execution_count": 7,
   "id": "1db5eead",
   "metadata": {
    "execution": {
     "iopub.execute_input": "2022-12-06T20:31:56.079382Z",
     "iopub.status.busy": "2022-12-06T20:31:56.078937Z",
     "iopub.status.idle": "2022-12-06T20:31:56.088889Z",
     "shell.execute_reply": "2022-12-06T20:31:56.087921Z"
    },
    "papermill": {
     "duration": 0.038675,
     "end_time": "2022-12-06T20:31:56.091006",
     "exception": false,
     "start_time": "2022-12-06T20:31:56.052331",
     "status": "completed"
    },
    "tags": []
   },
   "outputs": [
    {
     "data": {
      "text/plain": [
       "PassengerId      0\n",
       "Survived         0\n",
       "Pclass           0\n",
       "Name             0\n",
       "Sex              0\n",
       "Age            177\n",
       "SibSp            0\n",
       "Parch            0\n",
       "Ticket           0\n",
       "Fare             0\n",
       "Cabin          687\n",
       "Embarked         2\n",
       "dtype: int64"
      ]
     },
     "execution_count": 7,
     "metadata": {},
     "output_type": "execute_result"
    }
   ],
   "source": [
    "train_df.isnull().sum()"
   ]
  },
  {
   "cell_type": "code",
   "execution_count": 8,
   "id": "c0567313",
   "metadata": {
    "execution": {
     "iopub.execute_input": "2022-12-06T20:31:56.143859Z",
     "iopub.status.busy": "2022-12-06T20:31:56.143470Z",
     "iopub.status.idle": "2022-12-06T20:31:56.166562Z",
     "shell.execute_reply": "2022-12-06T20:31:56.165091Z"
    },
    "papermill": {
     "duration": 0.052262,
     "end_time": "2022-12-06T20:31:56.168828",
     "exception": false,
     "start_time": "2022-12-06T20:31:56.116566",
     "status": "completed"
    },
    "tags": []
   },
   "outputs": [
    {
     "data": {
      "text/html": [
       "<div>\n",
       "<style scoped>\n",
       "    .dataframe tbody tr th:only-of-type {\n",
       "        vertical-align: middle;\n",
       "    }\n",
       "\n",
       "    .dataframe tbody tr th {\n",
       "        vertical-align: top;\n",
       "    }\n",
       "\n",
       "    .dataframe thead th {\n",
       "        text-align: right;\n",
       "    }\n",
       "</style>\n",
       "<table border=\"1\" class=\"dataframe\">\n",
       "  <thead>\n",
       "    <tr style=\"text-align: right;\">\n",
       "      <th></th>\n",
       "      <th>PassengerId</th>\n",
       "      <th>Pclass</th>\n",
       "      <th>Name</th>\n",
       "      <th>Sex</th>\n",
       "      <th>Age</th>\n",
       "      <th>SibSp</th>\n",
       "      <th>Parch</th>\n",
       "      <th>Ticket</th>\n",
       "      <th>Fare</th>\n",
       "      <th>Cabin</th>\n",
       "      <th>Embarked</th>\n",
       "    </tr>\n",
       "  </thead>\n",
       "  <tbody>\n",
       "    <tr>\n",
       "      <th>0</th>\n",
       "      <td>892</td>\n",
       "      <td>3</td>\n",
       "      <td>Kelly, Mr. James</td>\n",
       "      <td>male</td>\n",
       "      <td>34.5</td>\n",
       "      <td>0</td>\n",
       "      <td>0</td>\n",
       "      <td>330911</td>\n",
       "      <td>7.8292</td>\n",
       "      <td>NaN</td>\n",
       "      <td>Q</td>\n",
       "    </tr>\n",
       "    <tr>\n",
       "      <th>1</th>\n",
       "      <td>893</td>\n",
       "      <td>3</td>\n",
       "      <td>Wilkes, Mrs. James (Ellen Needs)</td>\n",
       "      <td>female</td>\n",
       "      <td>47.0</td>\n",
       "      <td>1</td>\n",
       "      <td>0</td>\n",
       "      <td>363272</td>\n",
       "      <td>7.0000</td>\n",
       "      <td>NaN</td>\n",
       "      <td>S</td>\n",
       "    </tr>\n",
       "    <tr>\n",
       "      <th>2</th>\n",
       "      <td>894</td>\n",
       "      <td>2</td>\n",
       "      <td>Myles, Mr. Thomas Francis</td>\n",
       "      <td>male</td>\n",
       "      <td>62.0</td>\n",
       "      <td>0</td>\n",
       "      <td>0</td>\n",
       "      <td>240276</td>\n",
       "      <td>9.6875</td>\n",
       "      <td>NaN</td>\n",
       "      <td>Q</td>\n",
       "    </tr>\n",
       "    <tr>\n",
       "      <th>3</th>\n",
       "      <td>895</td>\n",
       "      <td>3</td>\n",
       "      <td>Wirz, Mr. Albert</td>\n",
       "      <td>male</td>\n",
       "      <td>27.0</td>\n",
       "      <td>0</td>\n",
       "      <td>0</td>\n",
       "      <td>315154</td>\n",
       "      <td>8.6625</td>\n",
       "      <td>NaN</td>\n",
       "      <td>S</td>\n",
       "    </tr>\n",
       "    <tr>\n",
       "      <th>4</th>\n",
       "      <td>896</td>\n",
       "      <td>3</td>\n",
       "      <td>Hirvonen, Mrs. Alexander (Helga E Lindqvist)</td>\n",
       "      <td>female</td>\n",
       "      <td>22.0</td>\n",
       "      <td>1</td>\n",
       "      <td>1</td>\n",
       "      <td>3101298</td>\n",
       "      <td>12.2875</td>\n",
       "      <td>NaN</td>\n",
       "      <td>S</td>\n",
       "    </tr>\n",
       "    <tr>\n",
       "      <th>...</th>\n",
       "      <td>...</td>\n",
       "      <td>...</td>\n",
       "      <td>...</td>\n",
       "      <td>...</td>\n",
       "      <td>...</td>\n",
       "      <td>...</td>\n",
       "      <td>...</td>\n",
       "      <td>...</td>\n",
       "      <td>...</td>\n",
       "      <td>...</td>\n",
       "      <td>...</td>\n",
       "    </tr>\n",
       "    <tr>\n",
       "      <th>413</th>\n",
       "      <td>1305</td>\n",
       "      <td>3</td>\n",
       "      <td>Spector, Mr. Woolf</td>\n",
       "      <td>male</td>\n",
       "      <td>NaN</td>\n",
       "      <td>0</td>\n",
       "      <td>0</td>\n",
       "      <td>A.5. 3236</td>\n",
       "      <td>8.0500</td>\n",
       "      <td>NaN</td>\n",
       "      <td>S</td>\n",
       "    </tr>\n",
       "    <tr>\n",
       "      <th>414</th>\n",
       "      <td>1306</td>\n",
       "      <td>1</td>\n",
       "      <td>Oliva y Ocana, Dona. Fermina</td>\n",
       "      <td>female</td>\n",
       "      <td>39.0</td>\n",
       "      <td>0</td>\n",
       "      <td>0</td>\n",
       "      <td>PC 17758</td>\n",
       "      <td>108.9000</td>\n",
       "      <td>C105</td>\n",
       "      <td>C</td>\n",
       "    </tr>\n",
       "    <tr>\n",
       "      <th>415</th>\n",
       "      <td>1307</td>\n",
       "      <td>3</td>\n",
       "      <td>Saether, Mr. Simon Sivertsen</td>\n",
       "      <td>male</td>\n",
       "      <td>38.5</td>\n",
       "      <td>0</td>\n",
       "      <td>0</td>\n",
       "      <td>SOTON/O.Q. 3101262</td>\n",
       "      <td>7.2500</td>\n",
       "      <td>NaN</td>\n",
       "      <td>S</td>\n",
       "    </tr>\n",
       "    <tr>\n",
       "      <th>416</th>\n",
       "      <td>1308</td>\n",
       "      <td>3</td>\n",
       "      <td>Ware, Mr. Frederick</td>\n",
       "      <td>male</td>\n",
       "      <td>NaN</td>\n",
       "      <td>0</td>\n",
       "      <td>0</td>\n",
       "      <td>359309</td>\n",
       "      <td>8.0500</td>\n",
       "      <td>NaN</td>\n",
       "      <td>S</td>\n",
       "    </tr>\n",
       "    <tr>\n",
       "      <th>417</th>\n",
       "      <td>1309</td>\n",
       "      <td>3</td>\n",
       "      <td>Peter, Master. Michael J</td>\n",
       "      <td>male</td>\n",
       "      <td>NaN</td>\n",
       "      <td>1</td>\n",
       "      <td>1</td>\n",
       "      <td>2668</td>\n",
       "      <td>22.3583</td>\n",
       "      <td>NaN</td>\n",
       "      <td>C</td>\n",
       "    </tr>\n",
       "  </tbody>\n",
       "</table>\n",
       "<p>418 rows × 11 columns</p>\n",
       "</div>"
      ],
      "text/plain": [
       "     PassengerId  Pclass                                          Name  \\\n",
       "0            892       3                              Kelly, Mr. James   \n",
       "1            893       3              Wilkes, Mrs. James (Ellen Needs)   \n",
       "2            894       2                     Myles, Mr. Thomas Francis   \n",
       "3            895       3                              Wirz, Mr. Albert   \n",
       "4            896       3  Hirvonen, Mrs. Alexander (Helga E Lindqvist)   \n",
       "..           ...     ...                                           ...   \n",
       "413         1305       3                            Spector, Mr. Woolf   \n",
       "414         1306       1                  Oliva y Ocana, Dona. Fermina   \n",
       "415         1307       3                  Saether, Mr. Simon Sivertsen   \n",
       "416         1308       3                           Ware, Mr. Frederick   \n",
       "417         1309       3                      Peter, Master. Michael J   \n",
       "\n",
       "        Sex   Age  SibSp  Parch              Ticket      Fare Cabin Embarked  \n",
       "0      male  34.5      0      0              330911    7.8292   NaN        Q  \n",
       "1    female  47.0      1      0              363272    7.0000   NaN        S  \n",
       "2      male  62.0      0      0              240276    9.6875   NaN        Q  \n",
       "3      male  27.0      0      0              315154    8.6625   NaN        S  \n",
       "4    female  22.0      1      1             3101298   12.2875   NaN        S  \n",
       "..      ...   ...    ...    ...                 ...       ...   ...      ...  \n",
       "413    male   NaN      0      0           A.5. 3236    8.0500   NaN        S  \n",
       "414  female  39.0      0      0            PC 17758  108.9000  C105        C  \n",
       "415    male  38.5      0      0  SOTON/O.Q. 3101262    7.2500   NaN        S  \n",
       "416    male   NaN      0      0              359309    8.0500   NaN        S  \n",
       "417    male   NaN      1      1                2668   22.3583   NaN        C  \n",
       "\n",
       "[418 rows x 11 columns]"
      ]
     },
     "execution_count": 8,
     "metadata": {},
     "output_type": "execute_result"
    }
   ],
   "source": [
    "test_df"
   ]
  },
  {
   "cell_type": "code",
   "execution_count": 9,
   "id": "6e8c21c6",
   "metadata": {
    "execution": {
     "iopub.execute_input": "2022-12-06T20:31:56.222743Z",
     "iopub.status.busy": "2022-12-06T20:31:56.222292Z",
     "iopub.status.idle": "2022-12-06T20:31:56.253597Z",
     "shell.execute_reply": "2022-12-06T20:31:56.252415Z"
    },
    "papermill": {
     "duration": 0.061209,
     "end_time": "2022-12-06T20:31:56.256112",
     "exception": false,
     "start_time": "2022-12-06T20:31:56.194903",
     "status": "completed"
    },
    "tags": []
   },
   "outputs": [
    {
     "data": {
      "text/html": [
       "<div>\n",
       "<style scoped>\n",
       "    .dataframe tbody tr th:only-of-type {\n",
       "        vertical-align: middle;\n",
       "    }\n",
       "\n",
       "    .dataframe tbody tr th {\n",
       "        vertical-align: top;\n",
       "    }\n",
       "\n",
       "    .dataframe thead th {\n",
       "        text-align: right;\n",
       "    }\n",
       "</style>\n",
       "<table border=\"1\" class=\"dataframe\">\n",
       "  <thead>\n",
       "    <tr style=\"text-align: right;\">\n",
       "      <th></th>\n",
       "      <th>PassengerId</th>\n",
       "      <th>Pclass</th>\n",
       "      <th>Age</th>\n",
       "      <th>SibSp</th>\n",
       "      <th>Parch</th>\n",
       "      <th>Fare</th>\n",
       "    </tr>\n",
       "  </thead>\n",
       "  <tbody>\n",
       "    <tr>\n",
       "      <th>count</th>\n",
       "      <td>418.000000</td>\n",
       "      <td>418.000000</td>\n",
       "      <td>332.000000</td>\n",
       "      <td>418.000000</td>\n",
       "      <td>418.000000</td>\n",
       "      <td>417.000000</td>\n",
       "    </tr>\n",
       "    <tr>\n",
       "      <th>mean</th>\n",
       "      <td>1100.500000</td>\n",
       "      <td>2.265550</td>\n",
       "      <td>30.272590</td>\n",
       "      <td>0.447368</td>\n",
       "      <td>0.392344</td>\n",
       "      <td>35.627188</td>\n",
       "    </tr>\n",
       "    <tr>\n",
       "      <th>std</th>\n",
       "      <td>120.810458</td>\n",
       "      <td>0.841838</td>\n",
       "      <td>14.181209</td>\n",
       "      <td>0.896760</td>\n",
       "      <td>0.981429</td>\n",
       "      <td>55.907576</td>\n",
       "    </tr>\n",
       "    <tr>\n",
       "      <th>min</th>\n",
       "      <td>892.000000</td>\n",
       "      <td>1.000000</td>\n",
       "      <td>0.170000</td>\n",
       "      <td>0.000000</td>\n",
       "      <td>0.000000</td>\n",
       "      <td>0.000000</td>\n",
       "    </tr>\n",
       "    <tr>\n",
       "      <th>25%</th>\n",
       "      <td>996.250000</td>\n",
       "      <td>1.000000</td>\n",
       "      <td>21.000000</td>\n",
       "      <td>0.000000</td>\n",
       "      <td>0.000000</td>\n",
       "      <td>7.895800</td>\n",
       "    </tr>\n",
       "    <tr>\n",
       "      <th>50%</th>\n",
       "      <td>1100.500000</td>\n",
       "      <td>3.000000</td>\n",
       "      <td>27.000000</td>\n",
       "      <td>0.000000</td>\n",
       "      <td>0.000000</td>\n",
       "      <td>14.454200</td>\n",
       "    </tr>\n",
       "    <tr>\n",
       "      <th>75%</th>\n",
       "      <td>1204.750000</td>\n",
       "      <td>3.000000</td>\n",
       "      <td>39.000000</td>\n",
       "      <td>1.000000</td>\n",
       "      <td>0.000000</td>\n",
       "      <td>31.500000</td>\n",
       "    </tr>\n",
       "    <tr>\n",
       "      <th>max</th>\n",
       "      <td>1309.000000</td>\n",
       "      <td>3.000000</td>\n",
       "      <td>76.000000</td>\n",
       "      <td>8.000000</td>\n",
       "      <td>9.000000</td>\n",
       "      <td>512.329200</td>\n",
       "    </tr>\n",
       "  </tbody>\n",
       "</table>\n",
       "</div>"
      ],
      "text/plain": [
       "       PassengerId      Pclass         Age       SibSp       Parch        Fare\n",
       "count   418.000000  418.000000  332.000000  418.000000  418.000000  417.000000\n",
       "mean   1100.500000    2.265550   30.272590    0.447368    0.392344   35.627188\n",
       "std     120.810458    0.841838   14.181209    0.896760    0.981429   55.907576\n",
       "min     892.000000    1.000000    0.170000    0.000000    0.000000    0.000000\n",
       "25%     996.250000    1.000000   21.000000    0.000000    0.000000    7.895800\n",
       "50%    1100.500000    3.000000   27.000000    0.000000    0.000000   14.454200\n",
       "75%    1204.750000    3.000000   39.000000    1.000000    0.000000   31.500000\n",
       "max    1309.000000    3.000000   76.000000    8.000000    9.000000  512.329200"
      ]
     },
     "execution_count": 9,
     "metadata": {},
     "output_type": "execute_result"
    }
   ],
   "source": [
    "test_df.describe()"
   ]
  },
  {
   "cell_type": "code",
   "execution_count": 10,
   "id": "b314b4ff",
   "metadata": {
    "execution": {
     "iopub.execute_input": "2022-12-06T20:31:56.309961Z",
     "iopub.status.busy": "2022-12-06T20:31:56.309517Z",
     "iopub.status.idle": "2022-12-06T20:31:56.320374Z",
     "shell.execute_reply": "2022-12-06T20:31:56.319125Z"
    },
    "papermill": {
     "duration": 0.040554,
     "end_time": "2022-12-06T20:31:56.322846",
     "exception": false,
     "start_time": "2022-12-06T20:31:56.282292",
     "status": "completed"
    },
    "tags": []
   },
   "outputs": [
    {
     "data": {
      "text/plain": [
       "PassengerId      0\n",
       "Pclass           0\n",
       "Name             0\n",
       "Sex              0\n",
       "Age             86\n",
       "SibSp            0\n",
       "Parch            0\n",
       "Ticket           0\n",
       "Fare             1\n",
       "Cabin          327\n",
       "Embarked         0\n",
       "dtype: int64"
      ]
     },
     "execution_count": 10,
     "metadata": {},
     "output_type": "execute_result"
    }
   ],
   "source": [
    "test_df.isnull().sum()"
   ]
  },
  {
   "cell_type": "markdown",
   "id": "39791776",
   "metadata": {
    "papermill": {
     "duration": 0.025643,
     "end_time": "2022-12-06T20:31:56.374793",
     "exception": false,
     "start_time": "2022-12-06T20:31:56.349150",
     "status": "completed"
    },
    "tags": []
   },
   "source": [
    "# First view on data"
   ]
  },
  {
   "cell_type": "code",
   "execution_count": 11,
   "id": "5f482b41",
   "metadata": {
    "execution": {
     "iopub.execute_input": "2022-12-06T20:31:56.428768Z",
     "iopub.status.busy": "2022-12-06T20:31:56.428376Z",
     "iopub.status.idle": "2022-12-06T20:31:56.799639Z",
     "shell.execute_reply": "2022-12-06T20:31:56.798343Z"
    },
    "papermill": {
     "duration": 0.401211,
     "end_time": "2022-12-06T20:31:56.802169",
     "exception": false,
     "start_time": "2022-12-06T20:31:56.400958",
     "status": "completed"
    },
    "tags": []
   },
   "outputs": [
    {
     "data": {
      "image/png": "[encoded data removed]",
      "text/plain": [
       "<Figure size 1296x576 with 2 Axes>"
      ]
     },
     "metadata": {
      "needs_background": "light"
     },
     "output_type": "display_data"
    }
   ],
   "source": [
    "f,ax=plt.subplots(1,2,figsize=(18,8))\n",
    "train_df['Survived'].value_counts().plot.pie(explode=[0,0.1],autopct='%1.1f%%',ax=ax[0],shadow=True)\n",
    "ax[0].set_title('Survived')\n",
    "ax[0].set_ylabel('')\n",
    "sns.countplot('Survived',data=train_df,ax=ax[1])\n",
    "ax[1].set_title('Survived')\n",
    "plt.show()"
   ]
  },
  {
   "cell_type": "markdown",
   "id": "43d61d6c",
   "metadata": {
    "papermill": {
     "duration": 0.027084,
     "end_time": "2022-12-06T20:31:56.856310",
     "exception": false,
     "start_time": "2022-12-06T20:31:56.829226",
     "status": "completed"
    },
    "tags": []
   },
   "source": [
    "As we see only 38% of people survived on Titanic, so let's dive into our features and check how the influence on survive."
   ]
  },
  {
   "cell_type": "markdown",
   "id": "258ac928",
   "metadata": {
    "papermill": {
     "duration": 0.027256,
     "end_time": "2022-12-06T20:31:56.910739",
     "exception": false,
     "start_time": "2022-12-06T20:31:56.883483",
     "status": "completed"
    },
    "tags": []
   },
   "source": [
    "# Features"
   ]
  },
  {
   "cell_type": "markdown",
   "id": "063a76bf",
   "metadata": {
    "papermill": {
     "duration": 0.027137,
     "end_time": "2022-12-06T20:31:56.965580",
     "exception": false,
     "start_time": "2022-12-06T20:31:56.938443",
     "status": "completed"
    },
    "tags": []
   },
   "source": [
    "# Numerical features"
   ]
  },
  {
   "cell_type": "code",
   "execution_count": 12,
   "id": "38442def",
   "metadata": {
    "execution": {
     "iopub.execute_input": "2022-12-06T20:31:57.023532Z",
     "iopub.status.busy": "2022-12-06T20:31:57.023089Z",
     "iopub.status.idle": "2022-12-06T20:31:57.027851Z",
     "shell.execute_reply": "2022-12-06T20:31:57.026640Z"
    },
    "papermill": {
     "duration": 0.036647,
     "end_time": "2022-12-06T20:31:57.030328",
     "exception": false,
     "start_time": "2022-12-06T20:31:56.993681",
     "status": "completed"
    },
    "tags": []
   },
   "outputs": [],
   "source": [
    "# g = sns.heatmap(train_df[[\"Survived\",\"SibSp\",\"Parch\",\"Age\",\"Fare\"]].corr(),annot=True, fmt = \".2f\", cmap = \"coolwarm\")"
   ]
  },
  {
   "cell_type": "markdown",
   "id": "4d44e6c4",
   "metadata": {
    "papermill": {
     "duration": 0.026902,
     "end_time": "2022-12-06T20:31:57.084075",
     "exception": false,
     "start_time": "2022-12-06T20:31:57.057173",
     "status": "completed"
    },
    "tags": []
   },
   "source": [
    "**SibSip**"
   ]
  },
  {
   "cell_type": "code",
   "execution_count": 13,
   "id": "f9e62bd6",
   "metadata": {
    "execution": {
     "iopub.execute_input": "2022-12-06T20:31:57.140776Z",
     "iopub.status.busy": "2022-12-06T20:31:57.140063Z",
     "iopub.status.idle": "2022-12-06T20:31:57.144314Z",
     "shell.execute_reply": "2022-12-06T20:31:57.143396Z"
    },
    "papermill": {
     "duration": 0.035116,
     "end_time": "2022-12-06T20:31:57.146478",
     "exception": false,
     "start_time": "2022-12-06T20:31:57.111362",
     "status": "completed"
    },
    "tags": []
   },
   "outputs": [],
   "source": [
    "# g = sns.factorplot(x=\"SibSp\",y=\"Survived\",data=train_df,kind=\"bar\", size = 6 , \n",
    "# palette = \"muted\")\n",
    "# g.despine(left=True)\n",
    "# g = g.set_ylabels(\"survival probability\")"
   ]
  },
  {
   "cell_type": "code",
   "execution_count": 14,
   "id": "eab3b7b5",
   "metadata": {
    "execution": {
     "iopub.execute_input": "2022-12-06T20:31:57.202813Z",
     "iopub.status.busy": "2022-12-06T20:31:57.202055Z",
     "iopub.status.idle": "2022-12-06T20:31:57.206610Z",
     "shell.execute_reply": "2022-12-06T20:31:57.205550Z"
    },
    "papermill": {
     "duration": 0.0355,
     "end_time": "2022-12-06T20:31:57.209007",
     "exception": false,
     "start_time": "2022-12-06T20:31:57.173507",
     "status": "completed"
    },
    "tags": []
   },
   "outputs": [],
   "source": [
    "# pd.crosstab([train_df.SibSp],train_df.Survived, margins = True).style.background_gradient(cmap='summer_r')"
   ]
  },
  {
   "cell_type": "code",
   "execution_count": 15,
   "id": "c3758140",
   "metadata": {
    "execution": {
     "iopub.execute_input": "2022-12-06T20:31:57.265415Z",
     "iopub.status.busy": "2022-12-06T20:31:57.264969Z",
     "iopub.status.idle": "2022-12-06T20:31:57.269812Z",
     "shell.execute_reply": "2022-12-06T20:31:57.268471Z"
    },
    "papermill": {
     "duration": 0.036812,
     "end_time": "2022-12-06T20:31:57.272583",
     "exception": false,
     "start_time": "2022-12-06T20:31:57.235771",
     "status": "completed"
    },
    "tags": []
   },
   "outputs": [],
   "source": [
    "# pd.crosstab(train_df.SibSp,train_df.Pclass,margins = True).style.background_gradient(cmap='summer_r')"
   ]
  },
  {
   "cell_type": "markdown",
   "id": "2f912bcf",
   "metadata": {
    "papermill": {
     "duration": 0.028248,
     "end_time": "2022-12-06T20:31:57.328724",
     "exception": false,
     "start_time": "2022-12-06T20:31:57.300476",
     "status": "completed"
    },
    "tags": []
   },
   "source": [
    "From these graphs and tables of SibSip feature we can understand that people that were alone or with a lot of family members had less chance to survive than people with 1 sibling."
   ]
  },
  {
   "cell_type": "markdown",
   "id": "875d83c4",
   "metadata": {
    "papermill": {
     "duration": 0.027721,
     "end_time": "2022-12-06T20:31:57.385343",
     "exception": false,
     "start_time": "2022-12-06T20:31:57.357622",
     "status": "completed"
    },
    "tags": []
   },
   "source": [
    "**Parch**"
   ]
  },
  {
   "cell_type": "code",
   "execution_count": 16,
   "id": "2e2476ba",
   "metadata": {
    "execution": {
     "iopub.execute_input": "2022-12-06T20:31:57.440504Z",
     "iopub.status.busy": "2022-12-06T20:31:57.440090Z",
     "iopub.status.idle": "2022-12-06T20:31:57.444891Z",
     "shell.execute_reply": "2022-12-06T20:31:57.444118Z"
    },
    "papermill": {
     "duration": 0.035291,
     "end_time": "2022-12-06T20:31:57.447295",
     "exception": false,
     "start_time": "2022-12-06T20:31:57.412004",
     "status": "completed"
    },
    "tags": []
   },
   "outputs": [],
   "source": [
    "# g  = sns.factorplot(x=\"Parch\",y=\"Survived\",data=train_df,kind=\"bar\", size = 6 , \n",
    "# palette = \"muted\")\n",
    "# g.despine(left=True)\n",
    "# g = g.set_ylabels(\"survival probability\")"
   ]
  },
  {
   "cell_type": "code",
   "execution_count": 17,
   "id": "b2bc89bd",
   "metadata": {
    "execution": {
     "iopub.execute_input": "2022-12-06T20:31:57.503093Z",
     "iopub.status.busy": "2022-12-06T20:31:57.502303Z",
     "iopub.status.idle": "2022-12-06T20:31:57.507249Z",
     "shell.execute_reply": "2022-12-06T20:31:57.506432Z"
    },
    "papermill": {
     "duration": 0.035718,
     "end_time": "2022-12-06T20:31:57.509614",
     "exception": false,
     "start_time": "2022-12-06T20:31:57.473896",
     "status": "completed"
    },
    "tags": []
   },
   "outputs": [],
   "source": [
    "# pd.crosstab(train_df.Parch,train_df.Pclass,margins = True).style.background_gradient(cmap='summer_r')\n"
   ]
  },
  {
   "cell_type": "markdown",
   "id": "d692cd23",
   "metadata": {
    "papermill": {
     "duration": 0.026245,
     "end_time": "2022-12-06T20:31:57.562663",
     "exception": false,
     "start_time": "2022-12-06T20:31:57.536418",
     "status": "completed"
    },
    "tags": []
   },
   "source": [
    "Here we can say small families (Parch 1,2) have more chances to survive than single person (Parch 0), or medium (Parch 3,4) and large (Parch 5,6) families."
   ]
  },
  {
   "cell_type": "markdown",
   "id": "22c9661c",
   "metadata": {
    "papermill": {
     "duration": 0.026186,
     "end_time": "2022-12-06T20:31:57.615196",
     "exception": false,
     "start_time": "2022-12-06T20:31:57.589010",
     "status": "completed"
    },
    "tags": []
   },
   "source": [
    "**Age**"
   ]
  },
  {
   "cell_type": "code",
   "execution_count": 18,
   "id": "d47d8cad",
   "metadata": {
    "execution": {
     "iopub.execute_input": "2022-12-06T20:31:57.670288Z",
     "iopub.status.busy": "2022-12-06T20:31:57.669463Z",
     "iopub.status.idle": "2022-12-06T20:31:57.674620Z",
     "shell.execute_reply": "2022-12-06T20:31:57.673815Z"
    },
    "papermill": {
     "duration": 0.03541,
     "end_time": "2022-12-06T20:31:57.676985",
     "exception": false,
     "start_time": "2022-12-06T20:31:57.641575",
     "status": "completed"
    },
    "tags": []
   },
   "outputs": [],
   "source": [
    "# f,ax=plt.subplots(1,2,figsize=(18,8))\n",
    "# sns.violinplot(\"Pclass\",\"Age\", hue=\"Survived\", data=train_df,split=True,ax=ax[0])\n",
    "# ax[0].set_title('Pclass and Age vs Survived')\n",
    "# ax[0].set_yticks(range(0,110,10))\n",
    "# sns.violinplot(\"Sex\",\"Age\", hue=\"Survived\", data=train_df,split=True,ax=ax[1])\n",
    "# ax[1].set_title('Sex and Age vs Survived')\n",
    "# ax[1].set_yticks(range(0,110,10))\n",
    "# plt.show()"
   ]
  },
  {
   "cell_type": "markdown",
   "id": "d0b31b04",
   "metadata": {
    "papermill": {
     "duration": 0.026344,
     "end_time": "2022-12-06T20:31:57.729548",
     "exception": false,
     "start_time": "2022-12-06T20:31:57.703204",
     "status": "completed"
    },
    "tags": []
   },
   "source": [
    "As we see if you are passenger from the 1st or 2nd classes and your age is between 10 and 37 you have more chances to survive."
   ]
  },
  {
   "cell_type": "code",
   "execution_count": 19,
   "id": "13b1a38e",
   "metadata": {
    "execution": {
     "iopub.execute_input": "2022-12-06T20:31:57.787460Z",
     "iopub.status.busy": "2022-12-06T20:31:57.786653Z",
     "iopub.status.idle": "2022-12-06T20:31:57.791754Z",
     "shell.execute_reply": "2022-12-06T20:31:57.790803Z"
    },
    "papermill": {
     "duration": 0.036007,
     "end_time": "2022-12-06T20:31:57.794131",
     "exception": false,
     "start_time": "2022-12-06T20:31:57.758124",
     "status": "completed"
    },
    "tags": []
   },
   "outputs": [],
   "source": [
    "# train_df.isnull().sum()"
   ]
  },
  {
   "cell_type": "markdown",
   "id": "7caaf5a8",
   "metadata": {
    "papermill": {
     "duration": 0.026741,
     "end_time": "2022-12-06T20:31:57.847616",
     "exception": false,
     "start_time": "2022-12-06T20:31:57.820875",
     "status": "completed"
    },
    "tags": []
   },
   "source": [
    "Also we have a lot of missing ages and we need to fix it. We will fix it with mean age."
   ]
  },
  {
   "cell_type": "code",
   "execution_count": 20,
   "id": "c4a4b0a4",
   "metadata": {
    "execution": {
     "iopub.execute_input": "2022-12-06T20:31:57.903756Z",
     "iopub.status.busy": "2022-12-06T20:31:57.902684Z",
     "iopub.status.idle": "2022-12-06T20:31:57.907780Z",
     "shell.execute_reply": "2022-12-06T20:31:57.906950Z"
    },
    "papermill": {
     "duration": 0.035829,
     "end_time": "2022-12-06T20:31:57.910254",
     "exception": false,
     "start_time": "2022-12-06T20:31:57.874425",
     "status": "completed"
    },
    "tags": []
   },
   "outputs": [],
   "source": [
    "# train_df['Age'].fillna(train_df['Age'].mean(), inplace=True)\n",
    "# train_df.isnull().sum()"
   ]
  },
  {
   "cell_type": "markdown",
   "id": "48290ce7",
   "metadata": {
    "papermill": {
     "duration": 0.027883,
     "end_time": "2022-12-06T20:31:57.965762",
     "exception": false,
     "start_time": "2022-12-06T20:31:57.937879",
     "status": "completed"
    },
    "tags": []
   },
   "source": [
    "**Fare**"
   ]
  },
  {
   "cell_type": "code",
   "execution_count": 21,
   "id": "1cbe1237",
   "metadata": {
    "execution": {
     "iopub.execute_input": "2022-12-06T20:31:58.022570Z",
     "iopub.status.busy": "2022-12-06T20:31:58.021767Z",
     "iopub.status.idle": "2022-12-06T20:31:58.026581Z",
     "shell.execute_reply": "2022-12-06T20:31:58.025798Z"
    },
    "papermill": {
     "duration": 0.036236,
     "end_time": "2022-12-06T20:31:58.028876",
     "exception": false,
     "start_time": "2022-12-06T20:31:57.992640",
     "status": "completed"
    },
    "tags": []
   },
   "outputs": [],
   "source": [
    "# sns.histplot(x=train_df['Fare'])"
   ]
  },
  {
   "cell_type": "code",
   "execution_count": 22,
   "id": "f559788b",
   "metadata": {
    "execution": {
     "iopub.execute_input": "2022-12-06T20:31:58.084943Z",
     "iopub.status.busy": "2022-12-06T20:31:58.083699Z",
     "iopub.status.idle": "2022-12-06T20:31:58.089777Z",
     "shell.execute_reply": "2022-12-06T20:31:58.088412Z"
    },
    "papermill": {
     "duration": 0.037156,
     "end_time": "2022-12-06T20:31:58.092407",
     "exception": false,
     "start_time": "2022-12-06T20:31:58.055251",
     "status": "completed"
    },
    "tags": []
   },
   "outputs": [],
   "source": [
    "# sns.barplot(x=train_df['Survived'],y=train_df['Fare'])\n"
   ]
  },
  {
   "cell_type": "markdown",
   "id": "df114b36",
   "metadata": {
    "papermill": {
     "duration": 0.026489,
     "end_time": "2022-12-06T20:31:58.146186",
     "exception": false,
     "start_time": "2022-12-06T20:31:58.119697",
     "status": "completed"
    },
    "tags": []
   },
   "source": [
    "From the fare feature we can say that people that paid for ticket more (1st and 2nd classes) had more chance to survive."
   ]
  },
  {
   "cell_type": "markdown",
   "id": "7be49589",
   "metadata": {
    "papermill": {
     "duration": 0.027446,
     "end_time": "2022-12-06T20:31:58.200384",
     "exception": false,
     "start_time": "2022-12-06T20:31:58.172938",
     "status": "completed"
    },
    "tags": []
   },
   "source": [
    "# Categorical features:"
   ]
  },
  {
   "cell_type": "markdown",
   "id": "1ab8a1c7",
   "metadata": {
    "papermill": {
     "duration": 0.026152,
     "end_time": "2022-12-06T20:31:58.253623",
     "exception": false,
     "start_time": "2022-12-06T20:31:58.227471",
     "status": "completed"
    },
    "tags": []
   },
   "source": [
    "**Sex**"
   ]
  },
  {
   "cell_type": "code",
   "execution_count": 23,
   "id": "986f5a62",
   "metadata": {
    "execution": {
     "iopub.execute_input": "2022-12-06T20:31:58.308906Z",
     "iopub.status.busy": "2022-12-06T20:31:58.308160Z",
     "iopub.status.idle": "2022-12-06T20:31:58.312194Z",
     "shell.execute_reply": "2022-12-06T20:31:58.311409Z"
    },
    "papermill": {
     "duration": 0.034387,
     "end_time": "2022-12-06T20:31:58.314402",
     "exception": false,
     "start_time": "2022-12-06T20:31:58.280015",
     "status": "completed"
    },
    "tags": []
   },
   "outputs": [],
   "source": [
    "# f,ax=plt.subplots(1,2,figsize=(18,8))\n",
    "# train_df[['Sex','Survived']].groupby(['Sex']).mean().plot.bar(ax=ax[0])\n",
    "# ax[0].set_title('Survived vs Sex')\n",
    "# sns.countplot('Sex',hue='Survived',data=train_df,ax=ax[1])\n",
    "# ax[1].set_title('Sex:Survived vs Dead')\n",
    "# plt.show()"
   ]
  },
  {
   "cell_type": "code",
   "execution_count": 24,
   "id": "72d91fc5",
   "metadata": {
    "execution": {
     "iopub.execute_input": "2022-12-06T20:31:58.370789Z",
     "iopub.status.busy": "2022-12-06T20:31:58.370014Z",
     "iopub.status.idle": "2022-12-06T20:31:58.373999Z",
     "shell.execute_reply": "2022-12-06T20:31:58.373194Z"
    },
    "papermill": {
     "duration": 0.034827,
     "end_time": "2022-12-06T20:31:58.376372",
     "exception": false,
     "start_time": "2022-12-06T20:31:58.341545",
     "status": "completed"
    },
    "tags": []
   },
   "outputs": [],
   "source": [
    "# train_df.groupby(['Sex','Survived'])['Survived'].count()"
   ]
  },
  {
   "cell_type": "markdown",
   "id": "5d2e4db8",
   "metadata": {
    "papermill": {
     "duration": 0.026265,
     "end_time": "2022-12-06T20:31:58.429399",
     "exception": false,
     "start_time": "2022-12-06T20:31:58.403134",
     "status": "completed"
    },
    "tags": []
   },
   "source": [
    "As we see count of men was more than count of female , but count of survived women is grater than count of survived men. <br />\n",
    "So, **feature sex is helpful for us.**"
   ]
  },
  {
   "cell_type": "markdown",
   "id": "8ccc451e",
   "metadata": {
    "papermill": {
     "duration": 0.026444,
     "end_time": "2022-12-06T20:31:58.483127",
     "exception": false,
     "start_time": "2022-12-06T20:31:58.456683",
     "status": "completed"
    },
    "tags": []
   },
   "source": [
    "**Pclass**"
   ]
  },
  {
   "cell_type": "code",
   "execution_count": 25,
   "id": "d638dad9",
   "metadata": {
    "execution": {
     "iopub.execute_input": "2022-12-06T20:31:58.539135Z",
     "iopub.status.busy": "2022-12-06T20:31:58.538380Z",
     "iopub.status.idle": "2022-12-06T20:31:58.542599Z",
     "shell.execute_reply": "2022-12-06T20:31:58.541798Z"
    },
    "papermill": {
     "duration": 0.03508,
     "end_time": "2022-12-06T20:31:58.544908",
     "exception": false,
     "start_time": "2022-12-06T20:31:58.509828",
     "status": "completed"
    },
    "tags": []
   },
   "outputs": [],
   "source": [
    "# f,ax=plt.subplots(1,2,figsize=(18,8))\n",
    "# train_df['Pclass'].value_counts().plot.bar(color=['#CD7F32','#FFDF00','#D3D3D3'],ax=ax[0])\n",
    "# ax[0].set_title('Number Of Passengers By Pclass')\n",
    "# ax[0].set_ylabel('Count')\n",
    "# sns.countplot('Pclass',hue='Survived',data=train_df,ax=ax[1])\n",
    "# ax[1].set_title('Pclass:Survived vs Dead')\n",
    "# plt.show()"
   ]
  },
  {
   "cell_type": "code",
   "execution_count": 26,
   "id": "ce7e0fae",
   "metadata": {
    "execution": {
     "iopub.execute_input": "2022-12-06T20:31:58.600238Z",
     "iopub.status.busy": "2022-12-06T20:31:58.599482Z",
     "iopub.status.idle": "2022-12-06T20:31:58.603597Z",
     "shell.execute_reply": "2022-12-06T20:31:58.602700Z"
    },
    "papermill": {
     "duration": 0.034271,
     "end_time": "2022-12-06T20:31:58.605851",
     "exception": false,
     "start_time": "2022-12-06T20:31:58.571580",
     "status": "completed"
    },
    "tags": []
   },
   "outputs": [],
   "source": [
    "# g = sns.factorplot(x=\"Pclass\", y=\"Survived\", hue=\"Sex\", data=train_df,\n",
    "#                    size=6, kind=\"bar\", palette=\"muted\")\n",
    "# g.despine(left=True)\n",
    "# g = g.set_ylabels(\"survival probability\")"
   ]
  },
  {
   "cell_type": "code",
   "execution_count": 27,
   "id": "1ceae035",
   "metadata": {
    "execution": {
     "iopub.execute_input": "2022-12-06T20:31:58.661751Z",
     "iopub.status.busy": "2022-12-06T20:31:58.660973Z",
     "iopub.status.idle": "2022-12-06T20:31:58.665352Z",
     "shell.execute_reply": "2022-12-06T20:31:58.664372Z"
    },
    "papermill": {
     "duration": 0.03499,
     "end_time": "2022-12-06T20:31:58.667730",
     "exception": false,
     "start_time": "2022-12-06T20:31:58.632740",
     "status": "completed"
    },
    "tags": []
   },
   "outputs": [],
   "source": [
    "# pd.crosstab(train_df.Pclass,train_df.Survived, margins = True).style.background_gradient(cmap='summer_r')\n"
   ]
  },
  {
   "cell_type": "code",
   "execution_count": 28,
   "id": "6f6b3f65",
   "metadata": {
    "execution": {
     "iopub.execute_input": "2022-12-06T20:31:58.723425Z",
     "iopub.status.busy": "2022-12-06T20:31:58.722605Z",
     "iopub.status.idle": "2022-12-06T20:31:58.726869Z",
     "shell.execute_reply": "2022-12-06T20:31:58.725765Z"
    },
    "papermill": {
     "duration": 0.035458,
     "end_time": "2022-12-06T20:31:58.729860",
     "exception": false,
     "start_time": "2022-12-06T20:31:58.694402",
     "status": "completed"
    },
    "tags": []
   },
   "outputs": [],
   "source": [
    "# sns.factorplot('Pclass','Survived',hue='Sex',data=train_df)\n",
    "# plt.show()"
   ]
  },
  {
   "cell_type": "code",
   "execution_count": 29,
   "id": "40b5b52b",
   "metadata": {
    "execution": {
     "iopub.execute_input": "2022-12-06T20:31:58.786382Z",
     "iopub.status.busy": "2022-12-06T20:31:58.785884Z",
     "iopub.status.idle": "2022-12-06T20:31:58.791858Z",
     "shell.execute_reply": "2022-12-06T20:31:58.790312Z"
    },
    "papermill": {
     "duration": 0.037379,
     "end_time": "2022-12-06T20:31:58.794511",
     "exception": false,
     "start_time": "2022-12-06T20:31:58.757132",
     "status": "completed"
    },
    "tags": []
   },
   "outputs": [],
   "source": [
    "# pd.crosstab([train_df.Sex,train_df.Survived],train_df.Pclass).style.background_gradient(cmap='summer_r')"
   ]
  },
  {
   "cell_type": "markdown",
   "id": "131ca390",
   "metadata": {
    "papermill": {
     "duration": 0.026343,
     "end_time": "2022-12-06T20:31:58.849097",
     "exception": false,
     "start_time": "2022-12-06T20:31:58.822754",
     "status": "completed"
    },
    "tags": []
   },
   "source": [
    "As we see, there were a lot of people from the 3rd class on Titanic but the main amount of people that did not survive is of 3rd people class, at the same time num of people that survived consisted mainly of people of 1st and 2nd classes. <br />\n",
    "\n",
    "So sum up until now:<br />\n",
    "**We can say that women  and people from the 1st and 2nd classes had more chances to survive.**"
   ]
  },
  {
   "cell_type": "markdown",
   "id": "dd72fcd2",
   "metadata": {
    "papermill": {
     "duration": 0.027142,
     "end_time": "2022-12-06T20:31:58.902915",
     "exception": false,
     "start_time": "2022-12-06T20:31:58.875773",
     "status": "completed"
    },
    "tags": []
   },
   "source": [
    "**Embarked**"
   ]
  },
  {
   "cell_type": "code",
   "execution_count": 30,
   "id": "894ca8a7",
   "metadata": {
    "execution": {
     "iopub.execute_input": "2022-12-06T20:31:58.962661Z",
     "iopub.status.busy": "2022-12-06T20:31:58.962227Z",
     "iopub.status.idle": "2022-12-06T20:31:58.966880Z",
     "shell.execute_reply": "2022-12-06T20:31:58.965871Z"
    },
    "papermill": {
     "duration": 0.038706,
     "end_time": "2022-12-06T20:31:58.968926",
     "exception": false,
     "start_time": "2022-12-06T20:31:58.930220",
     "status": "completed"
    },
    "tags": []
   },
   "outputs": [],
   "source": [
    "# g = sns.factorplot(x=\"Embarked\", y=\"Survived\",  data=train_df,\n",
    "#                    size=6, kind=\"bar\", palette=\"muted\")\n",
    "# g.despine(left=True)\n",
    "# g = g.set_ylabels(\"survival probability\")"
   ]
  },
  {
   "cell_type": "code",
   "execution_count": 31,
   "id": "f38341a5",
   "metadata": {
    "execution": {
     "iopub.execute_input": "2022-12-06T20:31:59.029780Z",
     "iopub.status.busy": "2022-12-06T20:31:59.029391Z",
     "iopub.status.idle": "2022-12-06T20:31:59.034400Z",
     "shell.execute_reply": "2022-12-06T20:31:59.033110Z"
    },
    "papermill": {
     "duration": 0.036642,
     "end_time": "2022-12-06T20:31:59.036709",
     "exception": false,
     "start_time": "2022-12-06T20:31:59.000067",
     "status": "completed"
    },
    "tags": []
   },
   "outputs": [],
   "source": [
    "# f,ax=plt.subplots(2,2,figsize=(20,15))\n",
    "# sns.countplot('Embarked',data=train_df,ax=ax[0,0])\n",
    "# ax[0,0].set_title('No. Of Passengers Boarded')\n",
    "# sns.countplot('Embarked',hue='Sex',data=train_df,ax=ax[0,1])\n",
    "# ax[0,1].set_title('Male-Female Split for Embarked')\n",
    "# sns.countplot('Embarked',hue='Survived',data=train_df,ax=ax[1,0])\n",
    "# ax[1,0].set_title('Embarked vs Survived')\n",
    "# sns.countplot('Embarked',hue='Pclass',data=train_df,ax=ax[1,1])\n",
    "# ax[1,1].set_title('Embarked vs Pclass')\n",
    "# plt.subplots_adjust(wspace=0.2,hspace=0.5)\n",
    "# plt.show()"
   ]
  },
  {
   "cell_type": "code",
   "execution_count": 32,
   "id": "c06c7759",
   "metadata": {
    "execution": {
     "iopub.execute_input": "2022-12-06T20:31:59.091941Z",
     "iopub.status.busy": "2022-12-06T20:31:59.091529Z",
     "iopub.status.idle": "2022-12-06T20:31:59.096365Z",
     "shell.execute_reply": "2022-12-06T20:31:59.095130Z"
    },
    "papermill": {
     "duration": 0.035321,
     "end_time": "2022-12-06T20:31:59.098638",
     "exception": false,
     "start_time": "2022-12-06T20:31:59.063317",
     "status": "completed"
    },
    "tags": []
   },
   "outputs": [],
   "source": [
    "# pd.crosstab([train_df.Embarked,train_df.Pclass],[train_df.Sex,train_df.Survived], margins = True).style.background_gradient(cmap='summer_r')"
   ]
  },
  {
   "cell_type": "code",
   "execution_count": 33,
   "id": "7d114fdc",
   "metadata": {
    "execution": {
     "iopub.execute_input": "2022-12-06T20:31:59.154143Z",
     "iopub.status.busy": "2022-12-06T20:31:59.153721Z",
     "iopub.status.idle": "2022-12-06T20:31:59.159145Z",
     "shell.execute_reply": "2022-12-06T20:31:59.157602Z"
    },
    "papermill": {
     "duration": 0.036049,
     "end_time": "2022-12-06T20:31:59.161679",
     "exception": false,
     "start_time": "2022-12-06T20:31:59.125630",
     "status": "completed"
    },
    "tags": []
   },
   "outputs": [],
   "source": [
    "# sns.factorplot('Pclass','Survived',hue='Sex',col='Embarked',data=train_df)\n",
    "# plt.show()"
   ]
  },
  {
   "cell_type": "markdown",
   "id": "eb882b76",
   "metadata": {
    "papermill": {
     "duration": 0.026375,
     "end_time": "2022-12-06T20:31:59.214746",
     "exception": false,
     "start_time": "2022-12-06T20:31:59.188371",
     "status": "completed"
    },
    "tags": []
   },
   "source": [
    "A lot of people get on Titanic in S ( most of them  people from the third class).<br />\n",
    "Also in port S eneter mainly amount of \"reach people\" from the 1st and 2nd classes.<br />\n",
    "Port Q consisted mainly from people of the 3rd class.<br />\n",
    "As we said before chance to survive fow woman is grater than for man and we can see it also on the last graphs.<br />\n",
    "Port S is nlucky for people from the third class because chance to survive for women and men from the 3rd class is very small.<br />\n",
    "Port Q is unlucky for men because most of them was from the 3rd class."
   ]
  },
  {
   "cell_type": "code",
   "execution_count": 34,
   "id": "61eef3b0",
   "metadata": {
    "execution": {
     "iopub.execute_input": "2022-12-06T20:31:59.270012Z",
     "iopub.status.busy": "2022-12-06T20:31:59.269622Z",
     "iopub.status.idle": "2022-12-06T20:31:59.274679Z",
     "shell.execute_reply": "2022-12-06T20:31:59.273393Z"
    },
    "papermill": {
     "duration": 0.035679,
     "end_time": "2022-12-06T20:31:59.277373",
     "exception": false,
     "start_time": "2022-12-06T20:31:59.241694",
     "status": "completed"
    },
    "tags": []
   },
   "outputs": [],
   "source": [
    "# train_df.isnull().sum()"
   ]
  },
  {
   "cell_type": "markdown",
   "id": "9745c889",
   "metadata": {
    "papermill": {
     "duration": 0.027844,
     "end_time": "2022-12-06T20:31:59.332382",
     "exception": false,
     "start_time": "2022-12-06T20:31:59.304538",
     "status": "completed"
    },
    "tags": []
   },
   "source": [
    "As we saw before most of people most of people got on Titanic in S port. Because of itt we will enter this port in missing entries."
   ]
  },
  {
   "cell_type": "code",
   "execution_count": 35,
   "id": "c1d16eb0",
   "metadata": {
    "execution": {
     "iopub.execute_input": "2022-12-06T20:31:59.388862Z",
     "iopub.status.busy": "2022-12-06T20:31:59.388463Z",
     "iopub.status.idle": "2022-12-06T20:31:59.393445Z",
     "shell.execute_reply": "2022-12-06T20:31:59.392194Z"
    },
    "papermill": {
     "duration": 0.036119,
     "end_time": "2022-12-06T20:31:59.396086",
     "exception": false,
     "start_time": "2022-12-06T20:31:59.359967",
     "status": "completed"
    },
    "tags": []
   },
   "outputs": [],
   "source": [
    "# train_df['Embarked'].fillna('S',inplace=True)\n",
    "# train_df.isnull().sum()"
   ]
  },
  {
   "cell_type": "markdown",
   "id": "06a5e069",
   "metadata": {
    "papermill": {
     "duration": 0.026964,
     "end_time": "2022-12-06T20:31:59.450072",
     "exception": false,
     "start_time": "2022-12-06T20:31:59.423108",
     "status": "completed"
    },
    "tags": []
   },
   "source": [
    "# Feature Engineering"
   ]
  },
  {
   "cell_type": "markdown",
   "id": "1f792bd4",
   "metadata": {
    "papermill": {
     "duration": 0.026361,
     "end_time": "2022-12-06T20:31:59.503237",
     "exception": false,
     "start_time": "2022-12-06T20:31:59.476876",
     "status": "completed"
    },
    "tags": []
   },
   "source": [
    "**Name**"
   ]
  },
  {
   "cell_type": "code",
   "execution_count": 36,
   "id": "581f7f4e",
   "metadata": {
    "execution": {
     "iopub.execute_input": "2022-12-06T20:31:59.559921Z",
     "iopub.status.busy": "2022-12-06T20:31:59.559493Z",
     "iopub.status.idle": "2022-12-06T20:31:59.564885Z",
     "shell.execute_reply": "2022-12-06T20:31:59.563482Z"
    },
    "papermill": {
     "duration": 0.037805,
     "end_time": "2022-12-06T20:31:59.567404",
     "exception": false,
     "start_time": "2022-12-06T20:31:59.529599",
     "status": "completed"
    },
    "tags": []
   },
   "outputs": [],
   "source": [
    "# train_df[\"Name\"].head()"
   ]
  },
  {
   "cell_type": "code",
   "execution_count": 37,
   "id": "d6d26076",
   "metadata": {
    "execution": {
     "iopub.execute_input": "2022-12-06T20:31:59.623601Z",
     "iopub.status.busy": "2022-12-06T20:31:59.622437Z",
     "iopub.status.idle": "2022-12-06T20:31:59.627701Z",
     "shell.execute_reply": "2022-12-06T20:31:59.626727Z"
    },
    "papermill": {
     "duration": 0.035444,
     "end_time": "2022-12-06T20:31:59.630064",
     "exception": false,
     "start_time": "2022-12-06T20:31:59.594620",
     "status": "completed"
    },
    "tags": []
   },
   "outputs": [],
   "source": [
    "# train_df[\"Name\"].describe()"
   ]
  },
  {
   "cell_type": "markdown",
   "id": "c19b3510",
   "metadata": {
    "papermill": {
     "duration": 0.027669,
     "end_time": "2022-12-06T20:31:59.684422",
     "exception": false,
     "start_time": "2022-12-06T20:31:59.656753",
     "status": "completed"
    },
    "tags": []
   },
   "source": [
    "Names are unique , so let's try to organize them. And check if they have influence."
   ]
  },
  {
   "cell_type": "markdown",
   "id": "e8e0fd18",
   "metadata": {
    "papermill": {
     "duration": 0.02741,
     "end_time": "2022-12-06T20:31:59.739221",
     "exception": false,
     "start_time": "2022-12-06T20:31:59.711811",
     "status": "completed"
    },
    "tags": []
   },
   "source": [
    "We will unite two features SibSp and Parch into one feature size_family because they have the same behaviour."
   ]
  },
  {
   "cell_type": "code",
   "execution_count": 38,
   "id": "671c7cff",
   "metadata": {
    "execution": {
     "iopub.execute_input": "2022-12-06T20:31:59.794407Z",
     "iopub.status.busy": "2022-12-06T20:31:59.793555Z",
     "iopub.status.idle": "2022-12-06T20:31:59.798061Z",
     "shell.execute_reply": "2022-12-06T20:31:59.797141Z"
    },
    "papermill": {
     "duration": 0.034712,
     "end_time": "2022-12-06T20:31:59.800349",
     "exception": false,
     "start_time": "2022-12-06T20:31:59.765637",
     "status": "completed"
    },
    "tags": []
   },
   "outputs": [],
   "source": [
    "# Get Title from Name\n",
    "# dataset_title = [i.split(\",\")[1].split(\".\")[0].strip() for i in train_df[\"Name\"]]\n",
    "# train_df[\"Title\"] = pd.Series(dataset_title)\n",
    "# train_df[\"Title\"].head()"
   ]
  },
  {
   "cell_type": "code",
   "execution_count": 39,
   "id": "459738e8",
   "metadata": {
    "execution": {
     "iopub.execute_input": "2022-12-06T20:31:59.856099Z",
     "iopub.status.busy": "2022-12-06T20:31:59.855338Z",
     "iopub.status.idle": "2022-12-06T20:31:59.859656Z",
     "shell.execute_reply": "2022-12-06T20:31:59.858467Z"
    },
    "papermill": {
     "duration": 0.034701,
     "end_time": "2022-12-06T20:31:59.862111",
     "exception": false,
     "start_time": "2022-12-06T20:31:59.827410",
     "status": "completed"
    },
    "tags": []
   },
   "outputs": [],
   "source": [
    "# g = sns.countplot(x=\"Title\",data=train_df)\n",
    "# g = plt.setp(g.get_xticklabels(), rotation=45)"
   ]
  },
  {
   "cell_type": "markdown",
   "id": "ba1efedc",
   "metadata": {
    "papermill": {
     "duration": 0.026383,
     "end_time": "2022-12-06T20:31:59.915705",
     "exception": false,
     "start_time": "2022-12-06T20:31:59.889322",
     "status": "completed"
    },
    "tags": []
   },
   "source": [
    "There is a lot of titles that has same value. So let's unit them into categories."
   ]
  },
  {
   "cell_type": "code",
   "execution_count": 40,
   "id": "8ff3c69e",
   "metadata": {
    "execution": {
     "iopub.execute_input": "2022-12-06T20:31:59.970771Z",
     "iopub.status.busy": "2022-12-06T20:31:59.970335Z",
     "iopub.status.idle": "2022-12-06T20:31:59.975404Z",
     "shell.execute_reply": "2022-12-06T20:31:59.974017Z"
    },
    "papermill": {
     "duration": 0.035387,
     "end_time": "2022-12-06T20:31:59.977816",
     "exception": false,
     "start_time": "2022-12-06T20:31:59.942429",
     "status": "completed"
    },
    "tags": []
   },
   "outputs": [],
   "source": [
    "# # Convert to categorical values Title \n",
    "# train_df[\"Title\"] = train_df[\"Title\"].replace(['Lady', 'the Countess','Countess','Capt', 'Col','Don', 'Dr', 'Major', 'Rev', 'Sir', 'Jonkheer', 'Dona'], 'Rare')\n"
   ]
  },
  {
   "cell_type": "code",
   "execution_count": 41,
   "id": "eb5f0c31",
   "metadata": {
    "execution": {
     "iopub.execute_input": "2022-12-06T20:32:00.033396Z",
     "iopub.status.busy": "2022-12-06T20:32:00.032913Z",
     "iopub.status.idle": "2022-12-06T20:32:00.038172Z",
     "shell.execute_reply": "2022-12-06T20:32:00.036954Z"
    },
    "papermill": {
     "duration": 0.035559,
     "end_time": "2022-12-06T20:32:00.040438",
     "exception": false,
     "start_time": "2022-12-06T20:32:00.004879",
     "status": "completed"
    },
    "tags": []
   },
   "outputs": [],
   "source": [
    "# train_df.head()"
   ]
  },
  {
   "cell_type": "code",
   "execution_count": 42,
   "id": "299401b2",
   "metadata": {
    "execution": {
     "iopub.execute_input": "2022-12-06T20:32:00.096204Z",
     "iopub.status.busy": "2022-12-06T20:32:00.095179Z",
     "iopub.status.idle": "2022-12-06T20:32:00.100092Z",
     "shell.execute_reply": "2022-12-06T20:32:00.098766Z"
    },
    "papermill": {
     "duration": 0.035281,
     "end_time": "2022-12-06T20:32:00.102422",
     "exception": false,
     "start_time": "2022-12-06T20:32:00.067141",
     "status": "completed"
    },
    "tags": []
   },
   "outputs": [],
   "source": [
    "# g = sns.countplot(train_df[\"Title\"])"
   ]
  },
  {
   "cell_type": "code",
   "execution_count": 43,
   "id": "c48ccf4b",
   "metadata": {
    "execution": {
     "iopub.execute_input": "2022-12-06T20:32:00.157817Z",
     "iopub.status.busy": "2022-12-06T20:32:00.157025Z",
     "iopub.status.idle": "2022-12-06T20:32:00.161199Z",
     "shell.execute_reply": "2022-12-06T20:32:00.160337Z"
    },
    "papermill": {
     "duration": 0.034203,
     "end_time": "2022-12-06T20:32:00.163408",
     "exception": false,
     "start_time": "2022-12-06T20:32:00.129205",
     "status": "completed"
    },
    "tags": []
   },
   "outputs": [],
   "source": [
    "# g = sns.factorplot(x=\"Title\",y=\"Survived\",data=train_df,kind=\"bar\")\n",
    "# g = g.set_ylabels(\"survival probability\")"
   ]
  },
  {
   "cell_type": "markdown",
   "id": "63171638",
   "metadata": {
    "papermill": {
     "duration": 0.027209,
     "end_time": "2022-12-06T20:32:00.217944",
     "exception": false,
     "start_time": "2022-12-06T20:32:00.190735",
     "status": "completed"
    },
    "tags": []
   },
   "source": [
    "As we knew before women have more chances to survive, but also we found out something new, people with rare title have more chances to survive and men."
   ]
  },
  {
   "cell_type": "code",
   "execution_count": 44,
   "id": "eebc383f",
   "metadata": {
    "execution": {
     "iopub.execute_input": "2022-12-06T20:32:00.273883Z",
     "iopub.status.busy": "2022-12-06T20:32:00.273153Z",
     "iopub.status.idle": "2022-12-06T20:32:00.277425Z",
     "shell.execute_reply": "2022-12-06T20:32:00.276531Z"
    },
    "papermill": {
     "duration": 0.034514,
     "end_time": "2022-12-06T20:32:00.279713",
     "exception": false,
     "start_time": "2022-12-06T20:32:00.245199",
     "status": "completed"
    },
    "tags": []
   },
   "outputs": [],
   "source": [
    "# # Drop Name variable\n",
    "# train_df.drop(labels = [\"Name\"], axis = 1, inplace = True)"
   ]
  },
  {
   "cell_type": "code",
   "execution_count": 45,
   "id": "85f8c092",
   "metadata": {
    "execution": {
     "iopub.execute_input": "2022-12-06T20:32:00.335249Z",
     "iopub.status.busy": "2022-12-06T20:32:00.334553Z",
     "iopub.status.idle": "2022-12-06T20:32:00.338493Z",
     "shell.execute_reply": "2022-12-06T20:32:00.337685Z"
    },
    "papermill": {
     "duration": 0.034256,
     "end_time": "2022-12-06T20:32:00.340860",
     "exception": false,
     "start_time": "2022-12-06T20:32:00.306604",
     "status": "completed"
    },
    "tags": []
   },
   "outputs": [],
   "source": [
    "# train_df.head()"
   ]
  },
  {
   "cell_type": "markdown",
   "id": "1c7c6f9b",
   "metadata": {
    "papermill": {
     "duration": 0.026922,
     "end_time": "2022-12-06T20:32:00.395231",
     "exception": false,
     "start_time": "2022-12-06T20:32:00.368309",
     "status": "completed"
    },
    "tags": []
   },
   "source": [
    "**Family size**"
   ]
  },
  {
   "cell_type": "code",
   "execution_count": 46,
   "id": "d39eaf67",
   "metadata": {
    "execution": {
     "iopub.execute_input": "2022-12-06T20:32:00.451401Z",
     "iopub.status.busy": "2022-12-06T20:32:00.450954Z",
     "iopub.status.idle": "2022-12-06T20:32:00.455934Z",
     "shell.execute_reply": "2022-12-06T20:32:00.454782Z"
    },
    "papermill": {
     "duration": 0.035124,
     "end_time": "2022-12-06T20:32:00.458354",
     "exception": false,
     "start_time": "2022-12-06T20:32:00.423230",
     "status": "completed"
    },
    "tags": []
   },
   "outputs": [],
   "source": [
    "# g = sns.heatmap(train_df[[\"Survived\",\"SibSp\",\"Parch\",\"Age\",\"Fare\"]].corr(),annot=True, fmt = \".2f\", cmap = \"coolwarm\")"
   ]
  },
  {
   "cell_type": "markdown",
   "id": "129f0e6a",
   "metadata": {
    "papermill": {
     "duration": 0.026284,
     "end_time": "2022-12-06T20:32:00.511122",
     "exception": false,
     "start_time": "2022-12-06T20:32:00.484838",
     "status": "completed"
    },
    "tags": []
   },
   "source": [
    "We can see that Parch and SibSp has a positive correlation and it is logically true increasing number of siblings we automatically increasing a number of parent/children,and because of it we will unit them into one feature Family size."
   ]
  },
  {
   "cell_type": "code",
   "execution_count": 47,
   "id": "c4b04299",
   "metadata": {
    "execution": {
     "iopub.execute_input": "2022-12-06T20:32:00.568231Z",
     "iopub.status.busy": "2022-12-06T20:32:00.567445Z",
     "iopub.status.idle": "2022-12-06T20:32:00.572490Z",
     "shell.execute_reply": "2022-12-06T20:32:00.571457Z"
    },
    "papermill": {
     "duration": 0.035845,
     "end_time": "2022-12-06T20:32:00.574669",
     "exception": false,
     "start_time": "2022-12-06T20:32:00.538824",
     "status": "completed"
    },
    "tags": []
   },
   "outputs": [],
   "source": [
    "# train_df['Family_Size'] = 0\n",
    "# train_df['Family_Size'] = train_df['Parch']+train_df['SibSp']"
   ]
  },
  {
   "cell_type": "code",
   "execution_count": 48,
   "id": "77fda0df",
   "metadata": {
    "execution": {
     "iopub.execute_input": "2022-12-06T20:32:00.631110Z",
     "iopub.status.busy": "2022-12-06T20:32:00.630355Z",
     "iopub.status.idle": "2022-12-06T20:32:00.634522Z",
     "shell.execute_reply": "2022-12-06T20:32:00.633580Z"
    },
    "papermill": {
     "duration": 0.034992,
     "end_time": "2022-12-06T20:32:00.636599",
     "exception": false,
     "start_time": "2022-12-06T20:32:00.601607",
     "status": "completed"
    },
    "tags": []
   },
   "outputs": [],
   "source": [
    "# train_df.head()"
   ]
  },
  {
   "cell_type": "code",
   "execution_count": 49,
   "id": "4dd0b567",
   "metadata": {
    "execution": {
     "iopub.execute_input": "2022-12-06T20:32:00.692250Z",
     "iopub.status.busy": "2022-12-06T20:32:00.691502Z",
     "iopub.status.idle": "2022-12-06T20:32:00.695844Z",
     "shell.execute_reply": "2022-12-06T20:32:00.694929Z"
    },
    "papermill": {
     "duration": 0.035017,
     "end_time": "2022-12-06T20:32:00.698286",
     "exception": false,
     "start_time": "2022-12-06T20:32:00.663269",
     "status": "completed"
    },
    "tags": []
   },
   "outputs": [],
   "source": [
    "# sns.factorplot('Family_Size','Survived',data=train_df)\n"
   ]
  },
  {
   "cell_type": "markdown",
   "id": "aab77ce2",
   "metadata": {
    "papermill": {
     "duration": 0.02692,
     "end_time": "2022-12-06T20:32:00.752991",
     "exception": false,
     "start_time": "2022-12-06T20:32:00.726071",
     "status": "completed"
    },
    "tags": []
   },
   "source": [
    "Like in Parch and SibSp features family_size feature has same behaviour: if you are alone or have less than 3 family members or more han 3 family memberes your chances to survive decreases."
   ]
  },
  {
   "cell_type": "markdown",
   "id": "2fc3d5bb",
   "metadata": {
    "papermill": {
     "duration": 0.025915,
     "end_time": "2022-12-06T20:32:00.805504",
     "exception": false,
     "start_time": "2022-12-06T20:32:00.779589",
     "status": "completed"
    },
    "tags": []
   },
   "source": [
    "**Cabin**"
   ]
  },
  {
   "cell_type": "code",
   "execution_count": 50,
   "id": "79e9c5d5",
   "metadata": {
    "execution": {
     "iopub.execute_input": "2022-12-06T20:32:00.860205Z",
     "iopub.status.busy": "2022-12-06T20:32:00.859765Z",
     "iopub.status.idle": "2022-12-06T20:32:00.863814Z",
     "shell.execute_reply": "2022-12-06T20:32:00.862961Z"
    },
    "papermill": {
     "duration": 0.03424,
     "end_time": "2022-12-06T20:32:00.865938",
     "exception": false,
     "start_time": "2022-12-06T20:32:00.831698",
     "status": "completed"
    },
    "tags": []
   },
   "outputs": [],
   "source": [
    "# train_df[\"Cabin\"].head()"
   ]
  },
  {
   "cell_type": "code",
   "execution_count": 51,
   "id": "5853ca6a",
   "metadata": {
    "execution": {
     "iopub.execute_input": "2022-12-06T20:32:00.921316Z",
     "iopub.status.busy": "2022-12-06T20:32:00.920564Z",
     "iopub.status.idle": "2022-12-06T20:32:00.925190Z",
     "shell.execute_reply": "2022-12-06T20:32:00.924165Z"
    },
    "papermill": {
     "duration": 0.035139,
     "end_time": "2022-12-06T20:32:00.927593",
     "exception": false,
     "start_time": "2022-12-06T20:32:00.892454",
     "status": "completed"
    },
    "tags": []
   },
   "outputs": [],
   "source": [
    "# train_df[\"Cabin\"].describe()"
   ]
  },
  {
   "cell_type": "code",
   "execution_count": 52,
   "id": "e131a0c2",
   "metadata": {
    "execution": {
     "iopub.execute_input": "2022-12-06T20:32:00.984660Z",
     "iopub.status.busy": "2022-12-06T20:32:00.984222Z",
     "iopub.status.idle": "2022-12-06T20:32:00.989393Z",
     "shell.execute_reply": "2022-12-06T20:32:00.988138Z"
    },
    "papermill": {
     "duration": 0.03766,
     "end_time": "2022-12-06T20:32:00.992134",
     "exception": false,
     "start_time": "2022-12-06T20:32:00.954474",
     "status": "completed"
    },
    "tags": []
   },
   "outputs": [],
   "source": [
    "# train_df[\"Cabin\"].isnull().sum()"
   ]
  },
  {
   "cell_type": "markdown",
   "id": "e0e04696",
   "metadata": {
    "papermill": {
     "duration": 0.026428,
     "end_time": "2022-12-06T20:32:01.046343",
     "exception": false,
     "start_time": "2022-12-06T20:32:01.019915",
     "status": "completed"
    },
    "tags": []
   },
   "source": [
    "Let's check if cabin influences on survival rate."
   ]
  },
  {
   "cell_type": "code",
   "execution_count": 53,
   "id": "e7d5e970",
   "metadata": {
    "execution": {
     "iopub.execute_input": "2022-12-06T20:32:01.101553Z",
     "iopub.status.busy": "2022-12-06T20:32:01.101128Z",
     "iopub.status.idle": "2022-12-06T20:32:01.106049Z",
     "shell.execute_reply": "2022-12-06T20:32:01.104859Z"
    },
    "papermill": {
     "duration": 0.035744,
     "end_time": "2022-12-06T20:32:01.108933",
     "exception": false,
     "start_time": "2022-12-06T20:32:01.073189",
     "status": "completed"
    },
    "tags": []
   },
   "outputs": [],
   "source": [
    "# train_df['Survived'].groupby(train_df['Cabin'].isnull()).count()"
   ]
  },
  {
   "cell_type": "code",
   "execution_count": 54,
   "id": "37083698",
   "metadata": {
    "execution": {
     "iopub.execute_input": "2022-12-06T20:32:01.164723Z",
     "iopub.status.busy": "2022-12-06T20:32:01.164295Z",
     "iopub.status.idle": "2022-12-06T20:32:01.169208Z",
     "shell.execute_reply": "2022-12-06T20:32:01.168006Z"
    },
    "papermill": {
     "duration": 0.035918,
     "end_time": "2022-12-06T20:32:01.171724",
     "exception": false,
     "start_time": "2022-12-06T20:32:01.135806",
     "status": "completed"
    },
    "tags": []
   },
   "outputs": [],
   "source": [
    "# train_df.groupby(['Survived',train_df['Cabin'].isnull()])['Survived'].count()"
   ]
  },
  {
   "cell_type": "markdown",
   "id": "b11858da",
   "metadata": {
    "papermill": {
     "duration": 0.026355,
     "end_time": "2022-12-06T20:32:01.224711",
     "exception": false,
     "start_time": "2022-12-06T20:32:01.198356",
     "status": "completed"
    },
    "tags": []
   },
   "source": [
    "We can see that a lot of people that did not survive have not cabine, so we will create a new feature that will get the same meaning but easier for understanding for our machine."
   ]
  },
  {
   "cell_type": "code",
   "execution_count": 55,
   "id": "901190d6",
   "metadata": {
    "execution": {
     "iopub.execute_input": "2022-12-06T20:32:01.279921Z",
     "iopub.status.busy": "2022-12-06T20:32:01.279483Z",
     "iopub.status.idle": "2022-12-06T20:32:01.284345Z",
     "shell.execute_reply": "2022-12-06T20:32:01.283103Z"
    },
    "papermill": {
     "duration": 0.035476,
     "end_time": "2022-12-06T20:32:01.286815",
     "exception": false,
     "start_time": "2022-12-06T20:32:01.251339",
     "status": "completed"
    },
    "tags": []
   },
   "outputs": [],
   "source": [
    "# train_df['existCabin']= np.where(train_df['Cabin'].isnull(), 0, 1)"
   ]
  },
  {
   "cell_type": "code",
   "execution_count": 56,
   "id": "087e8cad",
   "metadata": {
    "execution": {
     "iopub.execute_input": "2022-12-06T20:32:01.344385Z",
     "iopub.status.busy": "2022-12-06T20:32:01.343912Z",
     "iopub.status.idle": "2022-12-06T20:32:01.349564Z",
     "shell.execute_reply": "2022-12-06T20:32:01.348191Z"
    },
    "papermill": {
     "duration": 0.038066,
     "end_time": "2022-12-06T20:32:01.352096",
     "exception": false,
     "start_time": "2022-12-06T20:32:01.314030",
     "status": "completed"
    },
    "tags": []
   },
   "outputs": [],
   "source": [
    "# train_df.head()"
   ]
  },
  {
   "cell_type": "code",
   "execution_count": 57,
   "id": "4b2444f4",
   "metadata": {
    "execution": {
     "iopub.execute_input": "2022-12-06T20:32:01.407661Z",
     "iopub.status.busy": "2022-12-06T20:32:01.407199Z",
     "iopub.status.idle": "2022-12-06T20:32:01.412904Z",
     "shell.execute_reply": "2022-12-06T20:32:01.411660Z"
    },
    "papermill": {
     "duration": 0.036627,
     "end_time": "2022-12-06T20:32:01.415554",
     "exception": false,
     "start_time": "2022-12-06T20:32:01.378927",
     "status": "completed"
    },
    "tags": []
   },
   "outputs": [],
   "source": [
    "# g = sns.factorplot(x=\"existCabin\",y=\"Survived\",data=train_df,kind=\"bar\")\n",
    "# g = g.set_ylabels(\"survival probability\")"
   ]
  },
  {
   "cell_type": "code",
   "execution_count": 58,
   "id": "1b3b498a",
   "metadata": {
    "execution": {
     "iopub.execute_input": "2022-12-06T20:32:01.471196Z",
     "iopub.status.busy": "2022-12-06T20:32:01.470681Z",
     "iopub.status.idle": "2022-12-06T20:32:01.475521Z",
     "shell.execute_reply": "2022-12-06T20:32:01.474509Z"
    },
    "papermill": {
     "duration": 0.034901,
     "end_time": "2022-12-06T20:32:01.477636",
     "exception": false,
     "start_time": "2022-12-06T20:32:01.442735",
     "status": "completed"
    },
    "tags": []
   },
   "outputs": [],
   "source": [
    "# pd.crosstab([train_df.existCabin],[train_df.Survived], margins = True).style.background_gradient(cmap='summer_r')"
   ]
  },
  {
   "cell_type": "code",
   "execution_count": 59,
   "id": "b1f904f7",
   "metadata": {
    "execution": {
     "iopub.execute_input": "2022-12-06T20:32:01.532655Z",
     "iopub.status.busy": "2022-12-06T20:32:01.532218Z",
     "iopub.status.idle": "2022-12-06T20:32:01.537534Z",
     "shell.execute_reply": "2022-12-06T20:32:01.536133Z"
    },
    "papermill": {
     "duration": 0.03561,
     "end_time": "2022-12-06T20:32:01.539795",
     "exception": false,
     "start_time": "2022-12-06T20:32:01.504185",
     "status": "completed"
    },
    "tags": []
   },
   "outputs": [],
   "source": [
    "# # Drop Cabin variable\n",
    "# train_df.drop(labels = [\"Cabin\"], axis = 1, inplace = True)"
   ]
  },
  {
   "cell_type": "code",
   "execution_count": 60,
   "id": "5cdb5d04",
   "metadata": {
    "execution": {
     "iopub.execute_input": "2022-12-06T20:32:01.595285Z",
     "iopub.status.busy": "2022-12-06T20:32:01.594766Z",
     "iopub.status.idle": "2022-12-06T20:32:01.600062Z",
     "shell.execute_reply": "2022-12-06T20:32:01.598892Z"
    },
    "papermill": {
     "duration": 0.035762,
     "end_time": "2022-12-06T20:32:01.602493",
     "exception": false,
     "start_time": "2022-12-06T20:32:01.566731",
     "status": "completed"
    },
    "tags": []
   },
   "outputs": [],
   "source": [
    "# train_df.head()"
   ]
  },
  {
   "cell_type": "markdown",
   "id": "b4b28f60",
   "metadata": {
    "papermill": {
     "duration": 0.026329,
     "end_time": "2022-12-06T20:32:01.655164",
     "exception": false,
     "start_time": "2022-12-06T20:32:01.628835",
     "status": "completed"
    },
    "tags": []
   },
   "source": [
    "**Ticket**"
   ]
  },
  {
   "cell_type": "code",
   "execution_count": 61,
   "id": "260b3c36",
   "metadata": {
    "execution": {
     "iopub.execute_input": "2022-12-06T20:32:01.710191Z",
     "iopub.status.busy": "2022-12-06T20:32:01.709700Z",
     "iopub.status.idle": "2022-12-06T20:32:01.715879Z",
     "shell.execute_reply": "2022-12-06T20:32:01.714444Z"
    },
    "papermill": {
     "duration": 0.036724,
     "end_time": "2022-12-06T20:32:01.718476",
     "exception": false,
     "start_time": "2022-12-06T20:32:01.681752",
     "status": "completed"
    },
    "tags": []
   },
   "outputs": [],
   "source": [
    "# train_df[\"Ticket\"].head()"
   ]
  },
  {
   "cell_type": "code",
   "execution_count": 62,
   "id": "fff52448",
   "metadata": {
    "execution": {
     "iopub.execute_input": "2022-12-06T20:32:01.779009Z",
     "iopub.status.busy": "2022-12-06T20:32:01.778546Z",
     "iopub.status.idle": "2022-12-06T20:32:01.783689Z",
     "shell.execute_reply": "2022-12-06T20:32:01.782293Z"
    },
    "papermill": {
     "duration": 0.037835,
     "end_time": "2022-12-06T20:32:01.786525",
     "exception": false,
     "start_time": "2022-12-06T20:32:01.748690",
     "status": "completed"
    },
    "tags": []
   },
   "outputs": [],
   "source": [
    "# train_df[\"Ticket\"].describe()"
   ]
  },
  {
   "cell_type": "code",
   "execution_count": 63,
   "id": "21be672a",
   "metadata": {
    "execution": {
     "iopub.execute_input": "2022-12-06T20:32:01.842260Z",
     "iopub.status.busy": "2022-12-06T20:32:01.841630Z",
     "iopub.status.idle": "2022-12-06T20:32:01.847254Z",
     "shell.execute_reply": "2022-12-06T20:32:01.845566Z"
    },
    "papermill": {
     "duration": 0.036599,
     "end_time": "2022-12-06T20:32:01.849769",
     "exception": false,
     "start_time": "2022-12-06T20:32:01.813170",
     "status": "completed"
    },
    "tags": []
   },
   "outputs": [],
   "source": [
    "# train_df[\"Ticket\"].isnull().sum()"
   ]
  },
  {
   "cell_type": "markdown",
   "id": "d8b479a9",
   "metadata": {
    "papermill": {
     "duration": 0.027143,
     "end_time": "2022-12-06T20:32:01.903586",
     "exception": false,
     "start_time": "2022-12-06T20:32:01.876443",
     "status": "completed"
    },
    "tags": []
   },
   "source": [
    "Ticket is random string that can not help us in our task. So we will drop it"
   ]
  },
  {
   "cell_type": "code",
   "execution_count": 64,
   "id": "a4a14888",
   "metadata": {
    "execution": {
     "iopub.execute_input": "2022-12-06T20:32:01.961169Z",
     "iopub.status.busy": "2022-12-06T20:32:01.960713Z",
     "iopub.status.idle": "2022-12-06T20:32:01.965703Z",
     "shell.execute_reply": "2022-12-06T20:32:01.964395Z"
    },
    "papermill": {
     "duration": 0.036604,
     "end_time": "2022-12-06T20:32:01.968205",
     "exception": false,
     "start_time": "2022-12-06T20:32:01.931601",
     "status": "completed"
    },
    "tags": []
   },
   "outputs": [],
   "source": [
    "# # Drop Ticket variable\n",
    "# train_df.drop(labels = [\"Ticket\"], axis = 1, inplace = True)"
   ]
  },
  {
   "cell_type": "code",
   "execution_count": 65,
   "id": "3bedc8d7",
   "metadata": {
    "execution": {
     "iopub.execute_input": "2022-12-06T20:32:02.045632Z",
     "iopub.status.busy": "2022-12-06T20:32:02.044256Z",
     "iopub.status.idle": "2022-12-06T20:32:02.050935Z",
     "shell.execute_reply": "2022-12-06T20:32:02.049151Z"
    },
    "papermill": {
     "duration": 0.051291,
     "end_time": "2022-12-06T20:32:02.054096",
     "exception": false,
     "start_time": "2022-12-06T20:32:02.002805",
     "status": "completed"
    },
    "tags": []
   },
   "outputs": [],
   "source": [
    "# train_df.head()"
   ]
  },
  {
   "cell_type": "markdown",
   "id": "f769b471",
   "metadata": {
    "papermill": {
     "duration": 0.030599,
     "end_time": "2022-12-06T20:32:02.120430",
     "exception": false,
     "start_time": "2022-12-06T20:32:02.089831",
     "status": "completed"
    },
    "tags": []
   },
   "source": [
    "**PassengerId**"
   ]
  },
  {
   "cell_type": "markdown",
   "id": "cb0b2f1a",
   "metadata": {
    "papermill": {
     "duration": 0.027298,
     "end_time": "2022-12-06T20:32:02.176240",
     "exception": false,
     "start_time": "2022-12-06T20:32:02.148942",
     "status": "completed"
    },
    "tags": []
   },
   "source": [
    "ID is unique by it's defenition so it also cannot help us. And we will drop it."
   ]
  },
  {
   "cell_type": "code",
   "execution_count": 66,
   "id": "ef499f4c",
   "metadata": {
    "execution": {
     "iopub.execute_input": "2022-12-06T20:32:02.231975Z",
     "iopub.status.busy": "2022-12-06T20:32:02.231508Z",
     "iopub.status.idle": "2022-12-06T20:32:02.236566Z",
     "shell.execute_reply": "2022-12-06T20:32:02.235122Z"
    },
    "papermill": {
     "duration": 0.035687,
     "end_time": "2022-12-06T20:32:02.238916",
     "exception": false,
     "start_time": "2022-12-06T20:32:02.203229",
     "status": "completed"
    },
    "tags": []
   },
   "outputs": [],
   "source": [
    "# # Drop Ticket variable\n",
    "# train_df.drop(labels = [\"PassengerId\"], axis = 1, inplace = True)"
   ]
  },
  {
   "cell_type": "code",
   "execution_count": 67,
   "id": "3bc498dc",
   "metadata": {
    "execution": {
     "iopub.execute_input": "2022-12-06T20:32:02.295548Z",
     "iopub.status.busy": "2022-12-06T20:32:02.295066Z",
     "iopub.status.idle": "2022-12-06T20:32:02.300455Z",
     "shell.execute_reply": "2022-12-06T20:32:02.299216Z"
    },
    "papermill": {
     "duration": 0.036197,
     "end_time": "2022-12-06T20:32:02.302795",
     "exception": false,
     "start_time": "2022-12-06T20:32:02.266598",
     "status": "completed"
    },
    "tags": []
   },
   "outputs": [],
   "source": [
    "# train_df.head()"
   ]
  },
  {
   "cell_type": "markdown",
   "id": "a57bddc8",
   "metadata": {
    "papermill": {
     "duration": 0.026306,
     "end_time": "2022-12-06T20:32:02.355865",
     "exception": false,
     "start_time": "2022-12-06T20:32:02.329559",
     "status": "completed"
    },
    "tags": []
   },
   "source": [
    "**Converting String Values into Numeric**"
   ]
  },
  {
   "cell_type": "markdown",
   "id": "0e3b0c39",
   "metadata": {
    "papermill": {
     "duration": 0.026631,
     "end_time": "2022-12-06T20:32:02.409631",
     "exception": false,
     "start_time": "2022-12-06T20:32:02.383000",
     "status": "completed"
    },
    "tags": []
   },
   "source": [
    "Since we cannot pass strings to a machine learning model, we need to convert features loke Sex, Embarked, etc into numeric values."
   ]
  },
  {
   "cell_type": "code",
   "execution_count": 68,
   "id": "da110dbb",
   "metadata": {
    "execution": {
     "iopub.execute_input": "2022-12-06T20:32:02.465114Z",
     "iopub.status.busy": "2022-12-06T20:32:02.464694Z",
     "iopub.status.idle": "2022-12-06T20:32:02.469230Z",
     "shell.execute_reply": "2022-12-06T20:32:02.468348Z"
    },
    "papermill": {
     "duration": 0.03533,
     "end_time": "2022-12-06T20:32:02.471633",
     "exception": false,
     "start_time": "2022-12-06T20:32:02.436303",
     "status": "completed"
    },
    "tags": []
   },
   "outputs": [],
   "source": [
    "# from sklearn.preprocessing import OneHotEncoder\n",
    "# def dummy_encode(df,columns_names):\n",
    "#     df_cat = df[columns_names]\n",
    "#     enc = OneHotEncoder(drop='first', sparse=False)\n",
    "#     df_cat_enc = pd.DataFrame(enc.fit_transform(df_cat))\n",
    "#     df_enc = df.drop(columns_names, axis=1).join(df_cat_enc)\n",
    "#     return df_enc\n",
    "# train_df_enc = dummy_encode(train_df, ['Title','Embarked'])\n",
    "# train_df_enc"
   ]
  },
  {
   "cell_type": "code",
   "execution_count": 69,
   "id": "80ea0d95",
   "metadata": {
    "execution": {
     "iopub.execute_input": "2022-12-06T20:32:02.527653Z",
     "iopub.status.busy": "2022-12-06T20:32:02.527219Z",
     "iopub.status.idle": "2022-12-06T20:32:02.532330Z",
     "shell.execute_reply": "2022-12-06T20:32:02.530710Z"
    },
    "papermill": {
     "duration": 0.036299,
     "end_time": "2022-12-06T20:32:02.534853",
     "exception": false,
     "start_time": "2022-12-06T20:32:02.498554",
     "status": "completed"
    },
    "tags": []
   },
   "outputs": [],
   "source": [
    "# train_df_enc = pd.get_dummies(train_df, columns=['Title','Embarked'])\n",
    "# train_df_enc"
   ]
  },
  {
   "cell_type": "code",
   "execution_count": 70,
   "id": "27fe75c9",
   "metadata": {
    "execution": {
     "iopub.execute_input": "2022-12-06T20:32:02.590595Z",
     "iopub.status.busy": "2022-12-06T20:32:02.590187Z",
     "iopub.status.idle": "2022-12-06T20:32:02.595316Z",
     "shell.execute_reply": "2022-12-06T20:32:02.594078Z"
    },
    "papermill": {
     "duration": 0.03643,
     "end_time": "2022-12-06T20:32:02.597834",
     "exception": false,
     "start_time": "2022-12-06T20:32:02.561404",
     "status": "completed"
    },
    "tags": []
   },
   "outputs": [],
   "source": [
    "# train_df_enc = train_df_enc.astype({'Title_Master': 'int',\n",
    "#                                     'Title_Miss': 'int',\n",
    "#                                     'Title_Mlle': 'int',\n",
    "#                                     'Title_Mme': 'int',\n",
    "#                                     'Title_Mr': 'int',\n",
    "#                                     'Title_Mrs': 'int',\n",
    "#                                     'Title_Ms': 'int',\n",
    "#                                     'Title_Rare': 'int',\n",
    "#                                     'Embarked_C': 'int',\n",
    "#                                     'Embarked_Q': 'int',\n",
    "#                                     'Embarked_S': 'int'})"
   ]
  },
  {
   "cell_type": "code",
   "execution_count": 71,
   "id": "2a035543",
   "metadata": {
    "execution": {
     "iopub.execute_input": "2022-12-06T20:32:02.653847Z",
     "iopub.status.busy": "2022-12-06T20:32:02.653429Z",
     "iopub.status.idle": "2022-12-06T20:32:02.660348Z",
     "shell.execute_reply": "2022-12-06T20:32:02.658988Z"
    },
    "papermill": {
     "duration": 0.038194,
     "end_time": "2022-12-06T20:32:02.662857",
     "exception": false,
     "start_time": "2022-12-06T20:32:02.624663",
     "status": "completed"
    },
    "tags": []
   },
   "outputs": [],
   "source": [
    "# train_df_enc.dtypes"
   ]
  },
  {
   "cell_type": "code",
   "execution_count": 72,
   "id": "4f9ab04a",
   "metadata": {
    "execution": {
     "iopub.execute_input": "2022-12-06T20:32:02.718717Z",
     "iopub.status.busy": "2022-12-06T20:32:02.718028Z",
     "iopub.status.idle": "2022-12-06T20:32:02.724512Z",
     "shell.execute_reply": "2022-12-06T20:32:02.723147Z"
    },
    "papermill": {
     "duration": 0.038654,
     "end_time": "2022-12-06T20:32:02.728408",
     "exception": false,
     "start_time": "2022-12-06T20:32:02.689754",
     "status": "completed"
    },
    "tags": []
   },
   "outputs": [],
   "source": [
    "# train_df_enc['Sex'].replace(['male','female'],[0,1],inplace=True)"
   ]
  },
  {
   "cell_type": "code",
   "execution_count": 73,
   "id": "f80bb20a",
   "metadata": {
    "execution": {
     "iopub.execute_input": "2022-12-06T20:32:02.785087Z",
     "iopub.status.busy": "2022-12-06T20:32:02.784660Z",
     "iopub.status.idle": "2022-12-06T20:32:02.789748Z",
     "shell.execute_reply": "2022-12-06T20:32:02.788336Z"
    },
    "papermill": {
     "duration": 0.036038,
     "end_time": "2022-12-06T20:32:02.792332",
     "exception": false,
     "start_time": "2022-12-06T20:32:02.756294",
     "status": "completed"
    },
    "tags": []
   },
   "outputs": [],
   "source": [
    "# train_df_enc.head()"
   ]
  },
  {
   "cell_type": "code",
   "execution_count": 74,
   "id": "ef384c52",
   "metadata": {
    "execution": {
     "iopub.execute_input": "2022-12-06T20:32:02.847976Z",
     "iopub.status.busy": "2022-12-06T20:32:02.847590Z",
     "iopub.status.idle": "2022-12-06T20:32:02.853004Z",
     "shell.execute_reply": "2022-12-06T20:32:02.851752Z"
    },
    "papermill": {
     "duration": 0.036227,
     "end_time": "2022-12-06T20:32:02.855506",
     "exception": false,
     "start_time": "2022-12-06T20:32:02.819279",
     "status": "completed"
    },
    "tags": []
   },
   "outputs": [],
   "source": [
    "# train_df_enc.describe()"
   ]
  },
  {
   "cell_type": "code",
   "execution_count": 75,
   "id": "1cbd47bf",
   "metadata": {
    "execution": {
     "iopub.execute_input": "2022-12-06T20:32:02.912085Z",
     "iopub.status.busy": "2022-12-06T20:32:02.911664Z",
     "iopub.status.idle": "2022-12-06T20:32:02.916658Z",
     "shell.execute_reply": "2022-12-06T20:32:02.915597Z"
    },
    "papermill": {
     "duration": 0.036762,
     "end_time": "2022-12-06T20:32:02.919129",
     "exception": false,
     "start_time": "2022-12-06T20:32:02.882367",
     "status": "completed"
    },
    "tags": []
   },
   "outputs": [],
   "source": [
    "# train_df_enc.dtypes"
   ]
  },
  {
   "cell_type": "code",
   "execution_count": 76,
   "id": "94e0a0e8",
   "metadata": {
    "execution": {
     "iopub.execute_input": "2022-12-06T20:32:02.974892Z",
     "iopub.status.busy": "2022-12-06T20:32:02.974458Z",
     "iopub.status.idle": "2022-12-06T20:32:02.979440Z",
     "shell.execute_reply": "2022-12-06T20:32:02.978102Z"
    },
    "papermill": {
     "duration": 0.035796,
     "end_time": "2022-12-06T20:32:02.981797",
     "exception": false,
     "start_time": "2022-12-06T20:32:02.946001",
     "status": "completed"
    },
    "tags": []
   },
   "outputs": [],
   "source": [
    "# train_df_enc.isnull().sum()"
   ]
  },
  {
   "cell_type": "markdown",
   "id": "67ade86e",
   "metadata": {
    "papermill": {
     "duration": 0.026441,
     "end_time": "2022-12-06T20:32:03.035716",
     "exception": false,
     "start_time": "2022-12-06T20:32:03.009275",
     "status": "completed"
    },
    "tags": []
   },
   "source": []
  },
  {
   "cell_type": "markdown",
   "id": "043057cf",
   "metadata": {
    "papermill": {
     "duration": 0.026123,
     "end_time": "2022-12-06T20:32:03.088591",
     "exception": false,
     "start_time": "2022-12-06T20:32:03.062468",
     "status": "completed"
    },
    "tags": []
   },
   "source": [
    "-----------------------------------------------------------------------------------------------------------------"
   ]
  },
  {
   "cell_type": "code",
   "execution_count": 77,
   "id": "f6958472",
   "metadata": {
    "execution": {
     "iopub.execute_input": "2022-12-06T20:32:03.144241Z",
     "iopub.status.busy": "2022-12-06T20:32:03.143581Z",
     "iopub.status.idle": "2022-12-06T20:32:03.157678Z",
     "shell.execute_reply": "2022-12-06T20:32:03.156745Z"
    },
    "papermill": {
     "duration": 0.045257,
     "end_time": "2022-12-06T20:32:03.160437",
     "exception": false,
     "start_time": "2022-12-06T20:32:03.115180",
     "status": "completed"
    },
    "tags": []
   },
   "outputs": [],
   "source": [
    "from sklearn.preprocessing import OneHotEncoder\n",
    "\n",
    "def dummy_encode(df,columns_names,encoder=None):\n",
    "    df_cat = df[columns_names]\n",
    "    if encoder is None:\n",
    "        encoder = OneHotEncoder(drop='first', sparse=False)\n",
    "        df_cat_enc = pd.DataFrame(encoder.fit_transform(df_cat))\n",
    "    else:\n",
    "        df_cat_enc = pd.DataFrame(encoder.transform(df_cat))\n",
    "    df_enc = df.drop(columns_names, axis=1).join(df_cat_enc)\n",
    "    return df_enc, encoder\n",
    "\n",
    "\n",
    "    \n",
    "def modify_date(data, encoder):\n",
    "    data['Age'].fillna(data['Age'].mean(), inplace=True)\n",
    "    if type == \"train\":\n",
    "        data['Embarked'].fillna('S',inplace=True)\n",
    "    \n",
    "    dataset_title = [i.split(\",\")[1].split(\".\")[0].strip() for i in data[\"Name\"]]\n",
    "    data[\"Title\"] = pd.Series(dataset_title)\n",
    "    data[\"Title\"] = data[\"Title\"].replace(['Lady', 'the Countess','Countess','Capt', 'Col','Don', 'Dr', 'Major', 'Rev', 'Sir', 'Jonkheer', 'Dona'], 'Rare')\n",
    "    data[\"Title\"] = data[\"Title\"].replace(['Mlle','Mme','Ms','Dr','Major','Lady','Countess','Jonkheer','Col','Rev','Capt','Sir','Don','the Countess'],\n",
    "                                          ['Miss','Miss','Miss','Mr','Mr','Mrs','Mrs','Other','Other','Other','Mr','Mr','Mr','Mr'])\n",
    "    data.drop(labels = [\"Name\"], axis = 1, inplace = True)\n",
    "    \n",
    "    data['Family_Size'] = 0\n",
    "    data['Family_Size'] = data['Parch'] + data['SibSp']\n",
    "    \n",
    "    data['existCabin']= np.where(data['Cabin'].isnull(), 0, 1)\n",
    "    data.drop(labels = [\"Cabin\"], axis = 1, inplace = True)\n",
    "    \n",
    "    data_df_enc,encoder = dummy_encode(data, ['Title','Embarked'], encoder)\n",
    "    data_df_enc = pd.get_dummies(data, columns=['Title','Embarked'])\n",
    "\n",
    "                                    \n",
    "                                    \n",
    "    data_df_enc['Sex'].replace(['male','female'],[0,1],inplace=True)\n",
    "    \n",
    "#     data_df_enc.drop(labels = [\"Name\"], axis = 1, inplace = True)\n",
    "#     data_df_enc.drop(labels = [\"Cabin\"], axis = 1, inplace = True)\n",
    "    data_df_enc.drop(labels = [\"PassengerId\",\"Ticket\"], axis = 1, inplace = True)\n",
    "    \n",
    "    return data_df_enc,encoder\n",
    "    \n",
    "  "
   ]
  },
  {
   "cell_type": "code",
   "execution_count": 78,
   "id": "b6cbdcb7",
   "metadata": {
    "execution": {
     "iopub.execute_input": "2022-12-06T20:32:03.217380Z",
     "iopub.status.busy": "2022-12-06T20:32:03.216716Z",
     "iopub.status.idle": "2022-12-06T20:32:03.264763Z",
     "shell.execute_reply": "2022-12-06T20:32:03.263556Z"
    },
    "papermill": {
     "duration": 0.079778,
     "end_time": "2022-12-06T20:32:03.267723",
     "exception": false,
     "start_time": "2022-12-06T20:32:03.187945",
     "status": "completed"
    },
    "tags": []
   },
   "outputs": [],
   "source": [
    "encoder = None\n",
    "train_df, encoder = modify_date(train_df, encoder)\n",
    "test_df, encoder = modify_date(test_df, encoder)"
   ]
  },
  {
   "cell_type": "code",
   "execution_count": 79,
   "id": "d62a79e8",
   "metadata": {
    "execution": {
     "iopub.execute_input": "2022-12-06T20:32:03.323116Z",
     "iopub.status.busy": "2022-12-06T20:32:03.322651Z",
     "iopub.status.idle": "2022-12-06T20:32:03.341453Z",
     "shell.execute_reply": "2022-12-06T20:32:03.340306Z"
    },
    "papermill": {
     "duration": 0.049657,
     "end_time": "2022-12-06T20:32:03.344090",
     "exception": false,
     "start_time": "2022-12-06T20:32:03.294433",
     "status": "completed"
    },
    "tags": []
   },
   "outputs": [
    {
     "data": {
      "text/html": [
       "<div>\n",
       "<style scoped>\n",
       "    .dataframe tbody tr th:only-of-type {\n",
       "        vertical-align: middle;\n",
       "    }\n",
       "\n",
       "    .dataframe tbody tr th {\n",
       "        vertical-align: top;\n",
       "    }\n",
       "\n",
       "    .dataframe thead th {\n",
       "        text-align: right;\n",
       "    }\n",
       "</style>\n",
       "<table border=\"1\" class=\"dataframe\">\n",
       "  <thead>\n",
       "    <tr style=\"text-align: right;\">\n",
       "      <th></th>\n",
       "      <th>Survived</th>\n",
       "      <th>Pclass</th>\n",
       "      <th>Sex</th>\n",
       "      <th>Age</th>\n",
       "      <th>SibSp</th>\n",
       "      <th>Parch</th>\n",
       "      <th>Fare</th>\n",
       "      <th>Family_Size</th>\n",
       "      <th>existCabin</th>\n",
       "      <th>Title_Master</th>\n",
       "      <th>Title_Miss</th>\n",
       "      <th>Title_Mr</th>\n",
       "      <th>Title_Mrs</th>\n",
       "      <th>Title_Rare</th>\n",
       "      <th>Embarked_C</th>\n",
       "      <th>Embarked_Q</th>\n",
       "      <th>Embarked_S</th>\n",
       "    </tr>\n",
       "  </thead>\n",
       "  <tbody>\n",
       "    <tr>\n",
       "      <th>0</th>\n",
       "      <td>0</td>\n",
       "      <td>3</td>\n",
       "      <td>0</td>\n",
       "      <td>22.0</td>\n",
       "      <td>1</td>\n",
       "      <td>0</td>\n",
       "      <td>7.2500</td>\n",
       "      <td>1</td>\n",
       "      <td>0</td>\n",
       "      <td>0</td>\n",
       "      <td>0</td>\n",
       "      <td>1</td>\n",
       "      <td>0</td>\n",
       "      <td>0</td>\n",
       "      <td>0</td>\n",
       "      <td>0</td>\n",
       "      <td>1</td>\n",
       "    </tr>\n",
       "    <tr>\n",
       "      <th>1</th>\n",
       "      <td>1</td>\n",
       "      <td>1</td>\n",
       "      <td>1</td>\n",
       "      <td>38.0</td>\n",
       "      <td>1</td>\n",
       "      <td>0</td>\n",
       "      <td>71.2833</td>\n",
       "      <td>1</td>\n",
       "      <td>1</td>\n",
       "      <td>0</td>\n",
       "      <td>0</td>\n",
       "      <td>0</td>\n",
       "      <td>1</td>\n",
       "      <td>0</td>\n",
       "      <td>1</td>\n",
       "      <td>0</td>\n",
       "      <td>0</td>\n",
       "    </tr>\n",
       "    <tr>\n",
       "      <th>2</th>\n",
       "      <td>1</td>\n",
       "      <td>3</td>\n",
       "      <td>1</td>\n",
       "      <td>26.0</td>\n",
       "      <td>0</td>\n",
       "      <td>0</td>\n",
       "      <td>7.9250</td>\n",
       "      <td>0</td>\n",
       "      <td>0</td>\n",
       "      <td>0</td>\n",
       "      <td>1</td>\n",
       "      <td>0</td>\n",
       "      <td>0</td>\n",
       "      <td>0</td>\n",
       "      <td>0</td>\n",
       "      <td>0</td>\n",
       "      <td>1</td>\n",
       "    </tr>\n",
       "    <tr>\n",
       "      <th>3</th>\n",
       "      <td>1</td>\n",
       "      <td>1</td>\n",
       "      <td>1</td>\n",
       "      <td>35.0</td>\n",
       "      <td>1</td>\n",
       "      <td>0</td>\n",
       "      <td>53.1000</td>\n",
       "      <td>1</td>\n",
       "      <td>1</td>\n",
       "      <td>0</td>\n",
       "      <td>0</td>\n",
       "      <td>0</td>\n",
       "      <td>1</td>\n",
       "      <td>0</td>\n",
       "      <td>0</td>\n",
       "      <td>0</td>\n",
       "      <td>1</td>\n",
       "    </tr>\n",
       "    <tr>\n",
       "      <th>4</th>\n",
       "      <td>0</td>\n",
       "      <td>3</td>\n",
       "      <td>0</td>\n",
       "      <td>35.0</td>\n",
       "      <td>0</td>\n",
       "      <td>0</td>\n",
       "      <td>8.0500</td>\n",
       "      <td>0</td>\n",
       "      <td>0</td>\n",
       "      <td>0</td>\n",
       "      <td>0</td>\n",
       "      <td>1</td>\n",
       "      <td>0</td>\n",
       "      <td>0</td>\n",
       "      <td>0</td>\n",
       "      <td>0</td>\n",
       "      <td>1</td>\n",
       "    </tr>\n",
       "  </tbody>\n",
       "</table>\n",
       "</div>"
      ],
      "text/plain": [
       "   Survived  Pclass  Sex   Age  SibSp  Parch     Fare  Family_Size  \\\n",
       "0         0       3    0  22.0      1      0   7.2500            1   \n",
       "1         1       1    1  38.0      1      0  71.2833            1   \n",
       "2         1       3    1  26.0      0      0   7.9250            0   \n",
       "3         1       1    1  35.0      1      0  53.1000            1   \n",
       "4         0       3    0  35.0      0      0   8.0500            0   \n",
       "\n",
       "   existCabin  Title_Master  Title_Miss  Title_Mr  Title_Mrs  Title_Rare  \\\n",
       "0           0             0           0         1          0           0   \n",
       "1           1             0           0         0          1           0   \n",
       "2           0             0           1         0          0           0   \n",
       "3           1             0           0         0          1           0   \n",
       "4           0             0           0         1          0           0   \n",
       "\n",
       "   Embarked_C  Embarked_Q  Embarked_S  \n",
       "0           0           0           1  \n",
       "1           1           0           0  \n",
       "2           0           0           1  \n",
       "3           0           0           1  \n",
       "4           0           0           1  "
      ]
     },
     "execution_count": 79,
     "metadata": {},
     "output_type": "execute_result"
    }
   ],
   "source": [
    "train_df.head()"
   ]
  },
  {
   "cell_type": "code",
   "execution_count": null,
   "id": "1ee129fc",
   "metadata": {
    "papermill": {
     "duration": 0.02693,
     "end_time": "2022-12-06T20:32:03.398750",
     "exception": false,
     "start_time": "2022-12-06T20:32:03.371820",
     "status": "completed"
    },
    "tags": []
   },
   "outputs": [],
   "source": []
  },
  {
   "cell_type": "code",
   "execution_count": 80,
   "id": "d2538220",
   "metadata": {
    "execution": {
     "iopub.execute_input": "2022-12-06T20:32:03.454509Z",
     "iopub.status.busy": "2022-12-06T20:32:03.454103Z",
     "iopub.status.idle": "2022-12-06T20:32:03.472441Z",
     "shell.execute_reply": "2022-12-06T20:32:03.471076Z"
    },
    "papermill": {
     "duration": 0.049316,
     "end_time": "2022-12-06T20:32:03.474958",
     "exception": false,
     "start_time": "2022-12-06T20:32:03.425642",
     "status": "completed"
    },
    "tags": []
   },
   "outputs": [
    {
     "data": {
      "text/html": [
       "<div>\n",
       "<style scoped>\n",
       "    .dataframe tbody tr th:only-of-type {\n",
       "        vertical-align: middle;\n",
       "    }\n",
       "\n",
       "    .dataframe tbody tr th {\n",
       "        vertical-align: top;\n",
       "    }\n",
       "\n",
       "    .dataframe thead th {\n",
       "        text-align: right;\n",
       "    }\n",
       "</style>\n",
       "<table border=\"1\" class=\"dataframe\">\n",
       "  <thead>\n",
       "    <tr style=\"text-align: right;\">\n",
       "      <th></th>\n",
       "      <th>Pclass</th>\n",
       "      <th>Sex</th>\n",
       "      <th>Age</th>\n",
       "      <th>SibSp</th>\n",
       "      <th>Parch</th>\n",
       "      <th>Fare</th>\n",
       "      <th>Family_Size</th>\n",
       "      <th>existCabin</th>\n",
       "      <th>Title_Master</th>\n",
       "      <th>Title_Miss</th>\n",
       "      <th>Title_Mr</th>\n",
       "      <th>Title_Mrs</th>\n",
       "      <th>Title_Rare</th>\n",
       "      <th>Embarked_C</th>\n",
       "      <th>Embarked_Q</th>\n",
       "      <th>Embarked_S</th>\n",
       "    </tr>\n",
       "  </thead>\n",
       "  <tbody>\n",
       "    <tr>\n",
       "      <th>0</th>\n",
       "      <td>3</td>\n",
       "      <td>0</td>\n",
       "      <td>34.5</td>\n",
       "      <td>0</td>\n",
       "      <td>0</td>\n",
       "      <td>7.8292</td>\n",
       "      <td>0</td>\n",
       "      <td>0</td>\n",
       "      <td>0</td>\n",
       "      <td>0</td>\n",
       "      <td>1</td>\n",
       "      <td>0</td>\n",
       "      <td>0</td>\n",
       "      <td>0</td>\n",
       "      <td>1</td>\n",
       "      <td>0</td>\n",
       "    </tr>\n",
       "    <tr>\n",
       "      <th>1</th>\n",
       "      <td>3</td>\n",
       "      <td>1</td>\n",
       "      <td>47.0</td>\n",
       "      <td>1</td>\n",
       "      <td>0</td>\n",
       "      <td>7.0000</td>\n",
       "      <td>1</td>\n",
       "      <td>0</td>\n",
       "      <td>0</td>\n",
       "      <td>0</td>\n",
       "      <td>0</td>\n",
       "      <td>1</td>\n",
       "      <td>0</td>\n",
       "      <td>0</td>\n",
       "      <td>0</td>\n",
       "      <td>1</td>\n",
       "    </tr>\n",
       "    <tr>\n",
       "      <th>2</th>\n",
       "      <td>2</td>\n",
       "      <td>0</td>\n",
       "      <td>62.0</td>\n",
       "      <td>0</td>\n",
       "      <td>0</td>\n",
       "      <td>9.6875</td>\n",
       "      <td>0</td>\n",
       "      <td>0</td>\n",
       "      <td>0</td>\n",
       "      <td>0</td>\n",
       "      <td>1</td>\n",
       "      <td>0</td>\n",
       "      <td>0</td>\n",
       "      <td>0</td>\n",
       "      <td>1</td>\n",
       "      <td>0</td>\n",
       "    </tr>\n",
       "    <tr>\n",
       "      <th>3</th>\n",
       "      <td>3</td>\n",
       "      <td>0</td>\n",
       "      <td>27.0</td>\n",
       "      <td>0</td>\n",
       "      <td>0</td>\n",
       "      <td>8.6625</td>\n",
       "      <td>0</td>\n",
       "      <td>0</td>\n",
       "      <td>0</td>\n",
       "      <td>0</td>\n",
       "      <td>1</td>\n",
       "      <td>0</td>\n",
       "      <td>0</td>\n",
       "      <td>0</td>\n",
       "      <td>0</td>\n",
       "      <td>1</td>\n",
       "    </tr>\n",
       "    <tr>\n",
       "      <th>4</th>\n",
       "      <td>3</td>\n",
       "      <td>1</td>\n",
       "      <td>22.0</td>\n",
       "      <td>1</td>\n",
       "      <td>1</td>\n",
       "      <td>12.2875</td>\n",
       "      <td>2</td>\n",
       "      <td>0</td>\n",
       "      <td>0</td>\n",
       "      <td>0</td>\n",
       "      <td>0</td>\n",
       "      <td>1</td>\n",
       "      <td>0</td>\n",
       "      <td>0</td>\n",
       "      <td>0</td>\n",
       "      <td>1</td>\n",
       "    </tr>\n",
       "  </tbody>\n",
       "</table>\n",
       "</div>"
      ],
      "text/plain": [
       "   Pclass  Sex   Age  SibSp  Parch     Fare  Family_Size  existCabin  \\\n",
       "0       3    0  34.5      0      0   7.8292            0           0   \n",
       "1       3    1  47.0      1      0   7.0000            1           0   \n",
       "2       2    0  62.0      0      0   9.6875            0           0   \n",
       "3       3    0  27.0      0      0   8.6625            0           0   \n",
       "4       3    1  22.0      1      1  12.2875            2           0   \n",
       "\n",
       "   Title_Master  Title_Miss  Title_Mr  Title_Mrs  Title_Rare  Embarked_C  \\\n",
       "0             0           0         1          0           0           0   \n",
       "1             0           0         0          1           0           0   \n",
       "2             0           0         1          0           0           0   \n",
       "3             0           0         1          0           0           0   \n",
       "4             0           0         0          1           0           0   \n",
       "\n",
       "   Embarked_Q  Embarked_S  \n",
       "0           1           0  \n",
       "1           0           1  \n",
       "2           1           0  \n",
       "3           0           1  \n",
       "4           0           1  "
      ]
     },
     "execution_count": 80,
     "metadata": {},
     "output_type": "execute_result"
    }
   ],
   "source": [
    "test_df.head()"
   ]
  },
  {
   "cell_type": "code",
   "execution_count": 81,
   "id": "a106be61",
   "metadata": {
    "execution": {
     "iopub.execute_input": "2022-12-06T20:32:03.531798Z",
     "iopub.status.busy": "2022-12-06T20:32:03.531385Z",
     "iopub.status.idle": "2022-12-06T20:32:03.541749Z",
     "shell.execute_reply": "2022-12-06T20:32:03.540366Z"
    },
    "papermill": {
     "duration": 0.04164,
     "end_time": "2022-12-06T20:32:03.544178",
     "exception": false,
     "start_time": "2022-12-06T20:32:03.502538",
     "status": "completed"
    },
    "tags": []
   },
   "outputs": [],
   "source": [
    "t = train_df['Survived']\n",
    "X = train_df.drop('Survived', axis=1)\n",
    "X_train, X_valid, t_train, t_valid = sklearn.model_selection.train_test_split(\n",
    "    X, t, test_size=0.2, random_state=2)"
   ]
  },
  {
   "cell_type": "code",
   "execution_count": 82,
   "id": "ddb1d88c",
   "metadata": {
    "execution": {
     "iopub.execute_input": "2022-12-06T20:32:03.602391Z",
     "iopub.status.busy": "2022-12-06T20:32:03.601472Z",
     "iopub.status.idle": "2022-12-06T20:32:03.620427Z",
     "shell.execute_reply": "2022-12-06T20:32:03.619149Z"
    },
    "papermill": {
     "duration": 0.051268,
     "end_time": "2022-12-06T20:32:03.622872",
     "exception": false,
     "start_time": "2022-12-06T20:32:03.571604",
     "status": "completed"
    },
    "tags": []
   },
   "outputs": [
    {
     "data": {
      "text/html": [
       "<div>\n",
       "<style scoped>\n",
       "    .dataframe tbody tr th:only-of-type {\n",
       "        vertical-align: middle;\n",
       "    }\n",
       "\n",
       "    .dataframe tbody tr th {\n",
       "        vertical-align: top;\n",
       "    }\n",
       "\n",
       "    .dataframe thead th {\n",
       "        text-align: right;\n",
       "    }\n",
       "</style>\n",
       "<table border=\"1\" class=\"dataframe\">\n",
       "  <thead>\n",
       "    <tr style=\"text-align: right;\">\n",
       "      <th></th>\n",
       "      <th>Pclass</th>\n",
       "      <th>Sex</th>\n",
       "      <th>Age</th>\n",
       "      <th>SibSp</th>\n",
       "      <th>Parch</th>\n",
       "      <th>Fare</th>\n",
       "      <th>Family_Size</th>\n",
       "      <th>existCabin</th>\n",
       "      <th>Title_Master</th>\n",
       "      <th>Title_Miss</th>\n",
       "      <th>Title_Mr</th>\n",
       "      <th>Title_Mrs</th>\n",
       "      <th>Title_Rare</th>\n",
       "      <th>Embarked_C</th>\n",
       "      <th>Embarked_Q</th>\n",
       "      <th>Embarked_S</th>\n",
       "    </tr>\n",
       "  </thead>\n",
       "  <tbody>\n",
       "    <tr>\n",
       "      <th>30</th>\n",
       "      <td>1</td>\n",
       "      <td>0</td>\n",
       "      <td>40.0</td>\n",
       "      <td>0</td>\n",
       "      <td>0</td>\n",
       "      <td>27.7208</td>\n",
       "      <td>0</td>\n",
       "      <td>0</td>\n",
       "      <td>0</td>\n",
       "      <td>0</td>\n",
       "      <td>0</td>\n",
       "      <td>0</td>\n",
       "      <td>1</td>\n",
       "      <td>1</td>\n",
       "      <td>0</td>\n",
       "      <td>0</td>\n",
       "    </tr>\n",
       "    <tr>\n",
       "      <th>10</th>\n",
       "      <td>3</td>\n",
       "      <td>1</td>\n",
       "      <td>4.0</td>\n",
       "      <td>1</td>\n",
       "      <td>1</td>\n",
       "      <td>16.7000</td>\n",
       "      <td>2</td>\n",
       "      <td>1</td>\n",
       "      <td>0</td>\n",
       "      <td>1</td>\n",
       "      <td>0</td>\n",
       "      <td>0</td>\n",
       "      <td>0</td>\n",
       "      <td>0</td>\n",
       "      <td>0</td>\n",
       "      <td>1</td>\n",
       "    </tr>\n",
       "    <tr>\n",
       "      <th>873</th>\n",
       "      <td>3</td>\n",
       "      <td>0</td>\n",
       "      <td>47.0</td>\n",
       "      <td>0</td>\n",
       "      <td>0</td>\n",
       "      <td>9.0000</td>\n",
       "      <td>0</td>\n",
       "      <td>0</td>\n",
       "      <td>0</td>\n",
       "      <td>0</td>\n",
       "      <td>1</td>\n",
       "      <td>0</td>\n",
       "      <td>0</td>\n",
       "      <td>0</td>\n",
       "      <td>0</td>\n",
       "      <td>1</td>\n",
       "    </tr>\n",
       "    <tr>\n",
       "      <th>182</th>\n",
       "      <td>3</td>\n",
       "      <td>0</td>\n",
       "      <td>9.0</td>\n",
       "      <td>4</td>\n",
       "      <td>2</td>\n",
       "      <td>31.3875</td>\n",
       "      <td>6</td>\n",
       "      <td>0</td>\n",
       "      <td>1</td>\n",
       "      <td>0</td>\n",
       "      <td>0</td>\n",
       "      <td>0</td>\n",
       "      <td>0</td>\n",
       "      <td>0</td>\n",
       "      <td>0</td>\n",
       "      <td>1</td>\n",
       "    </tr>\n",
       "    <tr>\n",
       "      <th>876</th>\n",
       "      <td>3</td>\n",
       "      <td>0</td>\n",
       "      <td>20.0</td>\n",
       "      <td>0</td>\n",
       "      <td>0</td>\n",
       "      <td>9.8458</td>\n",
       "      <td>0</td>\n",
       "      <td>0</td>\n",
       "      <td>0</td>\n",
       "      <td>0</td>\n",
       "      <td>1</td>\n",
       "      <td>0</td>\n",
       "      <td>0</td>\n",
       "      <td>0</td>\n",
       "      <td>0</td>\n",
       "      <td>1</td>\n",
       "    </tr>\n",
       "  </tbody>\n",
       "</table>\n",
       "</div>"
      ],
      "text/plain": [
       "     Pclass  Sex   Age  SibSp  Parch     Fare  Family_Size  existCabin  \\\n",
       "30        1    0  40.0      0      0  27.7208            0           0   \n",
       "10        3    1   4.0      1      1  16.7000            2           1   \n",
       "873       3    0  47.0      0      0   9.0000            0           0   \n",
       "182       3    0   9.0      4      2  31.3875            6           0   \n",
       "876       3    0  20.0      0      0   9.8458            0           0   \n",
       "\n",
       "     Title_Master  Title_Miss  Title_Mr  Title_Mrs  Title_Rare  Embarked_C  \\\n",
       "30              0           0         0          0           1           1   \n",
       "10              0           1         0          0           0           0   \n",
       "873             0           0         1          0           0           0   \n",
       "182             1           0         0          0           0           0   \n",
       "876             0           0         1          0           0           0   \n",
       "\n",
       "     Embarked_Q  Embarked_S  \n",
       "30            0           0  \n",
       "10            0           1  \n",
       "873           0           1  \n",
       "182           0           1  \n",
       "876           0           1  "
      ]
     },
     "execution_count": 82,
     "metadata": {},
     "output_type": "execute_result"
    }
   ],
   "source": [
    "X_train.head()"
   ]
  },
  {
   "cell_type": "code",
   "execution_count": 83,
   "id": "e046a5e5",
   "metadata": {
    "execution": {
     "iopub.execute_input": "2022-12-06T20:32:03.752822Z",
     "iopub.status.busy": "2022-12-06T20:32:03.752411Z",
     "iopub.status.idle": "2022-12-06T20:32:03.825635Z",
     "shell.execute_reply": "2022-12-06T20:32:03.823570Z"
    },
    "papermill": {
     "duration": 0.107468,
     "end_time": "2022-12-06T20:32:03.830091",
     "exception": false,
     "start_time": "2022-12-06T20:32:03.722623",
     "status": "completed"
    },
    "tags": []
   },
   "outputs": [
    {
     "name": "stdout",
     "output_type": "stream",
     "text": [
      "Accuracy score on train 0.8441011235955056\n",
      "Accuracy score on validation 0.7988826815642458\n",
      "\n",
      "CE on train 0.3873181098938312\n",
      "CE on valid 0.4891989733532329\n"
     ]
    }
   ],
   "source": [
    "# Create Logistic Model\n",
    "log_model = pipeline.make_pipeline(preprocessing.StandardScaler(),\n",
    "                                  linear_model.LogisticRegression(max_iter=15000, random_state=0))\n",
    "log_model.fit(X_train, t_train)\n",
    "\n",
    "y_train_prob = log_model.predict_proba(X_train)\n",
    "y_valid_prob = log_model.predict_proba(X_valid)\n",
    "\n",
    "\n",
    "print('Accuracy score on train',log_model.score(X_train,t_train))\n",
    "print('Accuracy score on validation',log_model.score(X_valid,t_valid))\n",
    "print()\n",
    "print('CE on train', metrics.log_loss(t_train, y_train_prob))\n",
    "print('CE on valid', metrics.log_loss(t_valid, y_valid_prob))"
   ]
  },
  {
   "cell_type": "code",
   "execution_count": 84,
   "id": "70f66216",
   "metadata": {
    "execution": {
     "iopub.execute_input": "2022-12-06T20:32:03.952085Z",
     "iopub.status.busy": "2022-12-06T20:32:03.951617Z",
     "iopub.status.idle": "2022-12-06T20:32:06.441062Z",
     "shell.execute_reply": "2022-12-06T20:32:06.438520Z"
    },
    "papermill": {
     "duration": 2.54372,
     "end_time": "2022-12-06T20:32:06.446458",
     "exception": false,
     "start_time": "2022-12-06T20:32:03.902738",
     "status": "completed"
    },
    "tags": []
   },
   "outputs": [
    {
     "name": "stdout",
     "output_type": "stream",
     "text": [
      "Accuracy score on train 0.6896067415730337\n",
      "Accuracy score on test 0.664804469273743\n",
      "\n",
      "CE on train 0.5801890048533729\n",
      "CE on test 0.4891989733532329\n"
     ]
    }
   ],
   "source": [
    "# MLP Model\n",
    "from sklearn import neural_network\n",
    "MLP_cls = neural_network.MLPClassifier(\n",
    "    activation='logistic',\n",
    "     solver='sgd', alpha=0, max_iter=20000\n",
    "     ).fit(X_train, t_train)\n",
    "\n",
    "y_train_prob = MLP_cls.predict_proba(X_train)\n",
    "y_test_prob = MLP_cls.predict_proba(X_valid)\n",
    "\n",
    "print('Accuracy score on train',\n",
    "      MLP_cls.score(X_train, t_train))\n",
    "print('Accuracy score on test',\n",
    "      MLP_cls.score(X_valid, t_valid))\n",
    "print()\n",
    "print('CE on train',\n",
    "      metrics.log_loss(t_train, y_train_prob))\n",
    "print('CE on test',\n",
    "      metrics.log_loss(t_valid, y_valid_prob))"
   ]
  },
  {
   "cell_type": "code",
   "execution_count": 85,
   "id": "6342703f",
   "metadata": {
    "execution": {
     "iopub.execute_input": "2022-12-06T20:32:06.565845Z",
     "iopub.status.busy": "2022-12-06T20:32:06.565445Z",
     "iopub.status.idle": "2022-12-06T20:32:06.582302Z",
     "shell.execute_reply": "2022-12-06T20:32:06.581438Z"
    },
    "papermill": {
     "duration": 0.065237,
     "end_time": "2022-12-06T20:32:06.584881",
     "exception": false,
     "start_time": "2022-12-06T20:32:06.519644",
     "status": "completed"
    },
    "tags": []
   },
   "outputs": [
    {
     "data": {
      "text/html": [
       "<div>\n",
       "<style scoped>\n",
       "    .dataframe tbody tr th:only-of-type {\n",
       "        vertical-align: middle;\n",
       "    }\n",
       "\n",
       "    .dataframe tbody tr th {\n",
       "        vertical-align: top;\n",
       "    }\n",
       "\n",
       "    .dataframe thead th {\n",
       "        text-align: right;\n",
       "    }\n",
       "</style>\n",
       "<table border=\"1\" class=\"dataframe\">\n",
       "  <thead>\n",
       "    <tr style=\"text-align: right;\">\n",
       "      <th></th>\n",
       "      <th>Pclass</th>\n",
       "      <th>Sex</th>\n",
       "      <th>Age</th>\n",
       "      <th>SibSp</th>\n",
       "      <th>Parch</th>\n",
       "      <th>Fare</th>\n",
       "      <th>Family_Size</th>\n",
       "      <th>existCabin</th>\n",
       "      <th>Title_Master</th>\n",
       "      <th>Title_Miss</th>\n",
       "      <th>Title_Mr</th>\n",
       "      <th>Title_Mrs</th>\n",
       "      <th>Title_Rare</th>\n",
       "      <th>Embarked_C</th>\n",
       "      <th>Embarked_Q</th>\n",
       "      <th>Embarked_S</th>\n",
       "    </tr>\n",
       "  </thead>\n",
       "  <tbody>\n",
       "    <tr>\n",
       "      <th>0</th>\n",
       "      <td>3</td>\n",
       "      <td>0</td>\n",
       "      <td>34.5</td>\n",
       "      <td>0</td>\n",
       "      <td>0</td>\n",
       "      <td>7.8292</td>\n",
       "      <td>0</td>\n",
       "      <td>0</td>\n",
       "      <td>0</td>\n",
       "      <td>0</td>\n",
       "      <td>1</td>\n",
       "      <td>0</td>\n",
       "      <td>0</td>\n",
       "      <td>0</td>\n",
       "      <td>1</td>\n",
       "      <td>0</td>\n",
       "    </tr>\n",
       "    <tr>\n",
       "      <th>1</th>\n",
       "      <td>3</td>\n",
       "      <td>1</td>\n",
       "      <td>47.0</td>\n",
       "      <td>1</td>\n",
       "      <td>0</td>\n",
       "      <td>7.0000</td>\n",
       "      <td>1</td>\n",
       "      <td>0</td>\n",
       "      <td>0</td>\n",
       "      <td>0</td>\n",
       "      <td>0</td>\n",
       "      <td>1</td>\n",
       "      <td>0</td>\n",
       "      <td>0</td>\n",
       "      <td>0</td>\n",
       "      <td>1</td>\n",
       "    </tr>\n",
       "    <tr>\n",
       "      <th>2</th>\n",
       "      <td>2</td>\n",
       "      <td>0</td>\n",
       "      <td>62.0</td>\n",
       "      <td>0</td>\n",
       "      <td>0</td>\n",
       "      <td>9.6875</td>\n",
       "      <td>0</td>\n",
       "      <td>0</td>\n",
       "      <td>0</td>\n",
       "      <td>0</td>\n",
       "      <td>1</td>\n",
       "      <td>0</td>\n",
       "      <td>0</td>\n",
       "      <td>0</td>\n",
       "      <td>1</td>\n",
       "      <td>0</td>\n",
       "    </tr>\n",
       "    <tr>\n",
       "      <th>3</th>\n",
       "      <td>3</td>\n",
       "      <td>0</td>\n",
       "      <td>27.0</td>\n",
       "      <td>0</td>\n",
       "      <td>0</td>\n",
       "      <td>8.6625</td>\n",
       "      <td>0</td>\n",
       "      <td>0</td>\n",
       "      <td>0</td>\n",
       "      <td>0</td>\n",
       "      <td>1</td>\n",
       "      <td>0</td>\n",
       "      <td>0</td>\n",
       "      <td>0</td>\n",
       "      <td>0</td>\n",
       "      <td>1</td>\n",
       "    </tr>\n",
       "    <tr>\n",
       "      <th>4</th>\n",
       "      <td>3</td>\n",
       "      <td>1</td>\n",
       "      <td>22.0</td>\n",
       "      <td>1</td>\n",
       "      <td>1</td>\n",
       "      <td>12.2875</td>\n",
       "      <td>2</td>\n",
       "      <td>0</td>\n",
       "      <td>0</td>\n",
       "      <td>0</td>\n",
       "      <td>0</td>\n",
       "      <td>1</td>\n",
       "      <td>0</td>\n",
       "      <td>0</td>\n",
       "      <td>0</td>\n",
       "      <td>1</td>\n",
       "    </tr>\n",
       "  </tbody>\n",
       "</table>\n",
       "</div>"
      ],
      "text/plain": [
       "   Pclass  Sex   Age  SibSp  Parch     Fare  Family_Size  existCabin  \\\n",
       "0       3    0  34.5      0      0   7.8292            0           0   \n",
       "1       3    1  47.0      1      0   7.0000            1           0   \n",
       "2       2    0  62.0      0      0   9.6875            0           0   \n",
       "3       3    0  27.0      0      0   8.6625            0           0   \n",
       "4       3    1  22.0      1      1  12.2875            2           0   \n",
       "\n",
       "   Title_Master  Title_Miss  Title_Mr  Title_Mrs  Title_Rare  Embarked_C  \\\n",
       "0             0           0         1          0           0           0   \n",
       "1             0           0         0          1           0           0   \n",
       "2             0           0         1          0           0           0   \n",
       "3             0           0         1          0           0           0   \n",
       "4             0           0         0          1           0           0   \n",
       "\n",
       "   Embarked_Q  Embarked_S  \n",
       "0           1           0  \n",
       "1           0           1  \n",
       "2           1           0  \n",
       "3           0           1  \n",
       "4           0           1  "
      ]
     },
     "execution_count": 85,
     "metadata": {},
     "output_type": "execute_result"
    }
   ],
   "source": [
    "test_df.head()"
   ]
  },
  {
   "cell_type": "code",
   "execution_count": 86,
   "id": "caa38fae",
   "metadata": {
    "execution": {
     "iopub.execute_input": "2022-12-06T20:32:06.643803Z",
     "iopub.status.busy": "2022-12-06T20:32:06.643055Z",
     "iopub.status.idle": "2022-12-06T20:32:06.681374Z",
     "shell.execute_reply": "2022-12-06T20:32:06.679417Z"
    },
    "papermill": {
     "duration": 0.073142,
     "end_time": "2022-12-06T20:32:06.686533",
     "exception": false,
     "start_time": "2022-12-06T20:32:06.613391",
     "status": "completed"
    },
    "tags": []
   },
   "outputs": [
    {
     "name": "stdout",
     "output_type": "stream",
     "text": [
      "     PassengerId  Survived\n",
      "0            892         0\n",
      "1            893         0\n",
      "2            894         0\n",
      "3            895         0\n",
      "4            896         0\n",
      "..           ...       ...\n",
      "413         1305         0\n",
      "414         1306         1\n",
      "415         1307         0\n",
      "416         1308         0\n",
      "417         1309         0\n",
      "\n",
      "[418 rows x 2 columns]\n"
     ]
    }
   ],
   "source": [
    "# Checking Model on The Test Data\n",
    "titanic_test = pd.read_csv(\"/kaggle/input/titanic/test.csv\") # Reading the test file\n",
    "\n",
    "# X_test = change_test(titanic_test)\n",
    "\n",
    "X_test = test_df\n",
    "\n",
    "X_test['Fare'].fillna(X_test['Fare'].mean(), inplace=True)\n",
    "\n",
    "# print(f\"X_train.shape = {X_train.shape}\")\n",
    "# print(f\"X_test.shape = {X_test.shape}\")\n",
    "# print(f\"X_train.columns = {X_train.columns}\")\n",
    "# print(f\"X_test.columns = {X_test.columns}\")\n",
    "\n",
    "# X_test.head()\n",
    "\n",
    "label_test = pd.DataFrame({\"Survived\":MLP_cls.predict(X_test)})\n",
    "label_test.Survived\n",
    "\n",
    "results = pd.DataFrame({\"PassengerId\": titanic_test.PassengerId, 'Survived': label_test.Survived})\n",
    "results = results.astype({'PassengerId': 'int32'})\n",
    "results.to_csv('submission.csv', index = False)\n",
    "\n",
    "print(results)"
   ]
  },
  {
   "cell_type": "code",
   "execution_count": null,
   "id": "58f39979",
   "metadata": {
    "papermill": {
     "duration": 0.040134,
     "end_time": "2022-12-06T20:32:06.801509",
     "exception": false,
     "start_time": "2022-12-06T20:32:06.761375",
     "status": "completed"
    },
    "tags": []
   },
   "outputs": [],
   "source": []
  }
 ],
 "metadata": {
  "kernelspec": {
   "display_name": "Python 3",
   "language": "python",
   "name": "python3"
  },
  "language_info": {
   "codemirror_mode": {
    "name": "ipython",
    "version": 3
   },
   "file_extension": ".py",
   "mimetype": "text/x-python",
   "name": "python",
   "nbconvert_exporter": "python",
   "pygments_lexer": "ipython3",
   "version": "3.7.12"
  },
  "papermill": {
   "default_parameters": {},
   "duration": 25.627464,
   "end_time": "2022-12-06T20:32:07.652816",
   "environment_variables": {},
   "exception": null,
   "input_path": "__notebook__.ipynb",
   "output_path": "__notebook__.ipynb",
   "parameters": {},
   "start_time": "2022-12-06T20:31:42.025352",
   "version": "2.3.4"
  }
 },
 "nbformat": 4,
 "nbformat_minor": 5
}
