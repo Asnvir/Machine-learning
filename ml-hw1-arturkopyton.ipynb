{
 "cells": [
  {
   "cell_type": "code",
   "execution_count": 1,
   "id": "6e132168",
   "metadata": {
    "_cell_guid": "b1076dfc-b9ad-4769-8c92-a6c4dae69d19",
    "_uuid": "8f2839f25d086af736a60e9eeb907d3b93b6e0e5",
    "execution": {
     "iopub.execute_input": "2022-12-03T22:11:18.499900Z",
     "iopub.status.busy": "2022-12-03T22:11:18.499124Z",
     "iopub.status.idle": "2022-12-03T22:11:20.713419Z",
     "shell.execute_reply": "2022-12-03T22:11:20.712327Z"
    },
    "papermill": {
     "duration": 2.225531,
     "end_time": "2022-12-03T22:11:20.716037",
     "exception": false,
     "start_time": "2022-12-03T22:11:18.490506",
     "status": "completed"
    },
    "tags": []
   },
   "outputs": [
    {
     "name": "stdout",
     "output_type": "stream",
     "text": [
      "/kaggle/input/titanic/train.csv\n",
      "/kaggle/input/titanic/test.csv\n",
      "/kaggle/input/titanic/gender_submission.csv\n"
     ]
    }
   ],
   "source": [
    "%matplotlib inline\n",
    "import matplotlib.pyplot as plt\n",
    "import seaborn as sns\n",
    "import numpy as np # linear algebra\n",
    "import pandas as pd # data processing, CSV file I/O (e.g. pd.read_csv)\n",
    "import plotly.express as px\n",
    "import seaborn as sns\n",
    "import warnings\n",
    "warnings.filterwarnings('ignore')\n",
    "\n",
    "import os\n",
    "for dirname, _, filenames in os.walk('/kaggle/input'):\n",
    "    for filename in filenames:\n",
    "        print(os.path.join(dirname, filename))\n",
    "        \n",
    "\n",
    "\n"
   ]
  },
  {
   "cell_type": "markdown",
   "id": "717473cb",
   "metadata": {
    "papermill": {
     "duration": 0.006325,
     "end_time": "2022-12-03T22:11:20.729270",
     "exception": false,
     "start_time": "2022-12-03T22:11:20.722945",
     "status": "completed"
    },
    "tags": []
   },
   "source": [
    "# Init data"
   ]
  },
  {
   "cell_type": "code",
   "execution_count": 2,
   "id": "1d1f27c4",
   "metadata": {
    "execution": {
     "iopub.execute_input": "2022-12-03T22:11:20.743445Z",
     "iopub.status.busy": "2022-12-03T22:11:20.742908Z",
     "iopub.status.idle": "2022-12-03T22:11:20.778760Z",
     "shell.execute_reply": "2022-12-03T22:11:20.777668Z"
    },
    "papermill": {
     "duration": 0.045768,
     "end_time": "2022-12-03T22:11:20.781300",
     "exception": false,
     "start_time": "2022-12-03T22:11:20.735532",
     "status": "completed"
    },
    "tags": []
   },
   "outputs": [],
   "source": [
    "train=pd.read_csv('/kaggle/input/titanic/train.csv')\n",
    "test=pd.read_csv('/kaggle/input/titanic/test.csv')\n",
    "gender_submission=pd.read_csv('/kaggle/input/titanic/gender_submission.csv')\n"
   ]
  },
  {
   "cell_type": "markdown",
   "id": "10915493",
   "metadata": {
    "papermill": {
     "duration": 0.006023,
     "end_time": "2022-12-03T22:11:20.793616",
     "exception": false,
     "start_time": "2022-12-03T22:11:20.787593",
     "status": "completed"
    },
    "tags": []
   },
   "source": [
    "# Fast review on data"
   ]
  },
  {
   "cell_type": "code",
   "execution_count": 3,
   "id": "51d46574",
   "metadata": {
    "execution": {
     "iopub.execute_input": "2022-12-03T22:11:20.808384Z",
     "iopub.status.busy": "2022-12-03T22:11:20.807155Z",
     "iopub.status.idle": "2022-12-03T22:11:20.831973Z",
     "shell.execute_reply": "2022-12-03T22:11:20.830381Z"
    },
    "papermill": {
     "duration": 0.035081,
     "end_time": "2022-12-03T22:11:20.834930",
     "exception": false,
     "start_time": "2022-12-03T22:11:20.799849",
     "status": "completed"
    },
    "tags": []
   },
   "outputs": [
    {
     "data": {
      "text/html": [
       "<div>\n",
       "<style scoped>\n",
       "    .dataframe tbody tr th:only-of-type {\n",
       "        vertical-align: middle;\n",
       "    }\n",
       "\n",
       "    .dataframe tbody tr th {\n",
       "        vertical-align: top;\n",
       "    }\n",
       "\n",
       "    .dataframe thead th {\n",
       "        text-align: right;\n",
       "    }\n",
       "</style>\n",
       "<table border=\"1\" class=\"dataframe\">\n",
       "  <thead>\n",
       "    <tr style=\"text-align: right;\">\n",
       "      <th></th>\n",
       "      <th>PassengerId</th>\n",
       "      <th>Survived</th>\n",
       "      <th>Pclass</th>\n",
       "      <th>Name</th>\n",
       "      <th>Sex</th>\n",
       "      <th>Age</th>\n",
       "      <th>SibSp</th>\n",
       "      <th>Parch</th>\n",
       "      <th>Ticket</th>\n",
       "      <th>Fare</th>\n",
       "      <th>Cabin</th>\n",
       "      <th>Embarked</th>\n",
       "    </tr>\n",
       "  </thead>\n",
       "  <tbody>\n",
       "    <tr>\n",
       "      <th>0</th>\n",
       "      <td>1</td>\n",
       "      <td>0</td>\n",
       "      <td>3</td>\n",
       "      <td>Braund, Mr. Owen Harris</td>\n",
       "      <td>male</td>\n",
       "      <td>22.0</td>\n",
       "      <td>1</td>\n",
       "      <td>0</td>\n",
       "      <td>A/5 21171</td>\n",
       "      <td>7.2500</td>\n",
       "      <td>NaN</td>\n",
       "      <td>S</td>\n",
       "    </tr>\n",
       "    <tr>\n",
       "      <th>1</th>\n",
       "      <td>2</td>\n",
       "      <td>1</td>\n",
       "      <td>1</td>\n",
       "      <td>Cumings, Mrs. John Bradley (Florence Briggs Th...</td>\n",
       "      <td>female</td>\n",
       "      <td>38.0</td>\n",
       "      <td>1</td>\n",
       "      <td>0</td>\n",
       "      <td>PC 17599</td>\n",
       "      <td>71.2833</td>\n",
       "      <td>C85</td>\n",
       "      <td>C</td>\n",
       "    </tr>\n",
       "    <tr>\n",
       "      <th>2</th>\n",
       "      <td>3</td>\n",
       "      <td>1</td>\n",
       "      <td>3</td>\n",
       "      <td>Heikkinen, Miss. Laina</td>\n",
       "      <td>female</td>\n",
       "      <td>26.0</td>\n",
       "      <td>0</td>\n",
       "      <td>0</td>\n",
       "      <td>STON/O2. 3101282</td>\n",
       "      <td>7.9250</td>\n",
       "      <td>NaN</td>\n",
       "      <td>S</td>\n",
       "    </tr>\n",
       "    <tr>\n",
       "      <th>3</th>\n",
       "      <td>4</td>\n",
       "      <td>1</td>\n",
       "      <td>1</td>\n",
       "      <td>Futrelle, Mrs. Jacques Heath (Lily May Peel)</td>\n",
       "      <td>female</td>\n",
       "      <td>35.0</td>\n",
       "      <td>1</td>\n",
       "      <td>0</td>\n",
       "      <td>113803</td>\n",
       "      <td>53.1000</td>\n",
       "      <td>C123</td>\n",
       "      <td>S</td>\n",
       "    </tr>\n",
       "    <tr>\n",
       "      <th>4</th>\n",
       "      <td>5</td>\n",
       "      <td>0</td>\n",
       "      <td>3</td>\n",
       "      <td>Allen, Mr. William Henry</td>\n",
       "      <td>male</td>\n",
       "      <td>35.0</td>\n",
       "      <td>0</td>\n",
       "      <td>0</td>\n",
       "      <td>373450</td>\n",
       "      <td>8.0500</td>\n",
       "      <td>NaN</td>\n",
       "      <td>S</td>\n",
       "    </tr>\n",
       "  </tbody>\n",
       "</table>\n",
       "</div>"
      ],
      "text/plain": [
       "   PassengerId  Survived  Pclass  \\\n",
       "0            1         0       3   \n",
       "1            2         1       1   \n",
       "2            3         1       3   \n",
       "3            4         1       1   \n",
       "4            5         0       3   \n",
       "\n",
       "                                                Name     Sex   Age  SibSp  \\\n",
       "0                            Braund, Mr. Owen Harris    male  22.0      1   \n",
       "1  Cumings, Mrs. John Bradley (Florence Briggs Th...  female  38.0      1   \n",
       "2                             Heikkinen, Miss. Laina  female  26.0      0   \n",
       "3       Futrelle, Mrs. Jacques Heath (Lily May Peel)  female  35.0      1   \n",
       "4                           Allen, Mr. William Henry    male  35.0      0   \n",
       "\n",
       "   Parch            Ticket     Fare Cabin Embarked  \n",
       "0      0         A/5 21171   7.2500   NaN        S  \n",
       "1      0          PC 17599  71.2833   C85        C  \n",
       "2      0  STON/O2. 3101282   7.9250   NaN        S  \n",
       "3      0            113803  53.1000  C123        S  \n",
       "4      0            373450   8.0500   NaN        S  "
      ]
     },
     "execution_count": 3,
     "metadata": {},
     "output_type": "execute_result"
    }
   ],
   "source": [
    "#Review on date\n",
    "train.head()"
   ]
  },
  {
   "cell_type": "code",
   "execution_count": 4,
   "id": "5834fb6f",
   "metadata": {
    "execution": {
     "iopub.execute_input": "2022-12-03T22:11:20.851336Z",
     "iopub.status.busy": "2022-12-03T22:11:20.850771Z",
     "iopub.status.idle": "2022-12-03T22:11:20.887722Z",
     "shell.execute_reply": "2022-12-03T22:11:20.886868Z"
    },
    "papermill": {
     "duration": 0.047028,
     "end_time": "2022-12-03T22:11:20.889969",
     "exception": false,
     "start_time": "2022-12-03T22:11:20.842941",
     "status": "completed"
    },
    "tags": []
   },
   "outputs": [
    {
     "data": {
      "text/html": [
       "<div>\n",
       "<style scoped>\n",
       "    .dataframe tbody tr th:only-of-type {\n",
       "        vertical-align: middle;\n",
       "    }\n",
       "\n",
       "    .dataframe tbody tr th {\n",
       "        vertical-align: top;\n",
       "    }\n",
       "\n",
       "    .dataframe thead th {\n",
       "        text-align: right;\n",
       "    }\n",
       "</style>\n",
       "<table border=\"1\" class=\"dataframe\">\n",
       "  <thead>\n",
       "    <tr style=\"text-align: right;\">\n",
       "      <th></th>\n",
       "      <th>PassengerId</th>\n",
       "      <th>Survived</th>\n",
       "      <th>Pclass</th>\n",
       "      <th>Age</th>\n",
       "      <th>SibSp</th>\n",
       "      <th>Parch</th>\n",
       "      <th>Fare</th>\n",
       "    </tr>\n",
       "  </thead>\n",
       "  <tbody>\n",
       "    <tr>\n",
       "      <th>count</th>\n",
       "      <td>891.000000</td>\n",
       "      <td>891.000000</td>\n",
       "      <td>891.000000</td>\n",
       "      <td>714.000000</td>\n",
       "      <td>891.000000</td>\n",
       "      <td>891.000000</td>\n",
       "      <td>891.000000</td>\n",
       "    </tr>\n",
       "    <tr>\n",
       "      <th>mean</th>\n",
       "      <td>446.000000</td>\n",
       "      <td>0.383838</td>\n",
       "      <td>2.308642</td>\n",
       "      <td>29.699118</td>\n",
       "      <td>0.523008</td>\n",
       "      <td>0.381594</td>\n",
       "      <td>32.204208</td>\n",
       "    </tr>\n",
       "    <tr>\n",
       "      <th>std</th>\n",
       "      <td>257.353842</td>\n",
       "      <td>0.486592</td>\n",
       "      <td>0.836071</td>\n",
       "      <td>14.526497</td>\n",
       "      <td>1.102743</td>\n",
       "      <td>0.806057</td>\n",
       "      <td>49.693429</td>\n",
       "    </tr>\n",
       "    <tr>\n",
       "      <th>min</th>\n",
       "      <td>1.000000</td>\n",
       "      <td>0.000000</td>\n",
       "      <td>1.000000</td>\n",
       "      <td>0.420000</td>\n",
       "      <td>0.000000</td>\n",
       "      <td>0.000000</td>\n",
       "      <td>0.000000</td>\n",
       "    </tr>\n",
       "    <tr>\n",
       "      <th>25%</th>\n",
       "      <td>223.500000</td>\n",
       "      <td>0.000000</td>\n",
       "      <td>2.000000</td>\n",
       "      <td>20.125000</td>\n",
       "      <td>0.000000</td>\n",
       "      <td>0.000000</td>\n",
       "      <td>7.910400</td>\n",
       "    </tr>\n",
       "    <tr>\n",
       "      <th>50%</th>\n",
       "      <td>446.000000</td>\n",
       "      <td>0.000000</td>\n",
       "      <td>3.000000</td>\n",
       "      <td>28.000000</td>\n",
       "      <td>0.000000</td>\n",
       "      <td>0.000000</td>\n",
       "      <td>14.454200</td>\n",
       "    </tr>\n",
       "    <tr>\n",
       "      <th>75%</th>\n",
       "      <td>668.500000</td>\n",
       "      <td>1.000000</td>\n",
       "      <td>3.000000</td>\n",
       "      <td>38.000000</td>\n",
       "      <td>1.000000</td>\n",
       "      <td>0.000000</td>\n",
       "      <td>31.000000</td>\n",
       "    </tr>\n",
       "    <tr>\n",
       "      <th>max</th>\n",
       "      <td>891.000000</td>\n",
       "      <td>1.000000</td>\n",
       "      <td>3.000000</td>\n",
       "      <td>80.000000</td>\n",
       "      <td>8.000000</td>\n",
       "      <td>6.000000</td>\n",
       "      <td>512.329200</td>\n",
       "    </tr>\n",
       "  </tbody>\n",
       "</table>\n",
       "</div>"
      ],
      "text/plain": [
       "       PassengerId    Survived      Pclass         Age       SibSp  \\\n",
       "count   891.000000  891.000000  891.000000  714.000000  891.000000   \n",
       "mean    446.000000    0.383838    2.308642   29.699118    0.523008   \n",
       "std     257.353842    0.486592    0.836071   14.526497    1.102743   \n",
       "min       1.000000    0.000000    1.000000    0.420000    0.000000   \n",
       "25%     223.500000    0.000000    2.000000   20.125000    0.000000   \n",
       "50%     446.000000    0.000000    3.000000   28.000000    0.000000   \n",
       "75%     668.500000    1.000000    3.000000   38.000000    1.000000   \n",
       "max     891.000000    1.000000    3.000000   80.000000    8.000000   \n",
       "\n",
       "            Parch        Fare  \n",
       "count  891.000000  891.000000  \n",
       "mean     0.381594   32.204208  \n",
       "std      0.806057   49.693429  \n",
       "min      0.000000    0.000000  \n",
       "25%      0.000000    7.910400  \n",
       "50%      0.000000   14.454200  \n",
       "75%      0.000000   31.000000  \n",
       "max      6.000000  512.329200  "
      ]
     },
     "execution_count": 4,
     "metadata": {},
     "output_type": "execute_result"
    }
   ],
   "source": [
    "#Review for continious features \n",
    "train.describe()"
   ]
  },
  {
   "cell_type": "code",
   "execution_count": 5,
   "id": "0b7e2a1a",
   "metadata": {
    "execution": {
     "iopub.execute_input": "2022-12-03T22:11:20.905738Z",
     "iopub.status.busy": "2022-12-03T22:11:20.904625Z",
     "iopub.status.idle": "2022-12-03T22:11:20.927395Z",
     "shell.execute_reply": "2022-12-03T22:11:20.926503Z"
    },
    "papermill": {
     "duration": 0.032509,
     "end_time": "2022-12-03T22:11:20.929358",
     "exception": false,
     "start_time": "2022-12-03T22:11:20.896849",
     "status": "completed"
    },
    "tags": []
   },
   "outputs": [
    {
     "data": {
      "text/html": [
       "<div>\n",
       "<style scoped>\n",
       "    .dataframe tbody tr th:only-of-type {\n",
       "        vertical-align: middle;\n",
       "    }\n",
       "\n",
       "    .dataframe tbody tr th {\n",
       "        vertical-align: top;\n",
       "    }\n",
       "\n",
       "    .dataframe thead th {\n",
       "        text-align: right;\n",
       "    }\n",
       "</style>\n",
       "<table border=\"1\" class=\"dataframe\">\n",
       "  <thead>\n",
       "    <tr style=\"text-align: right;\">\n",
       "      <th></th>\n",
       "      <th>Name</th>\n",
       "      <th>Sex</th>\n",
       "      <th>Ticket</th>\n",
       "      <th>Cabin</th>\n",
       "      <th>Embarked</th>\n",
       "    </tr>\n",
       "  </thead>\n",
       "  <tbody>\n",
       "    <tr>\n",
       "      <th>count</th>\n",
       "      <td>891</td>\n",
       "      <td>891</td>\n",
       "      <td>891</td>\n",
       "      <td>204</td>\n",
       "      <td>889</td>\n",
       "    </tr>\n",
       "    <tr>\n",
       "      <th>unique</th>\n",
       "      <td>891</td>\n",
       "      <td>2</td>\n",
       "      <td>681</td>\n",
       "      <td>147</td>\n",
       "      <td>3</td>\n",
       "    </tr>\n",
       "    <tr>\n",
       "      <th>top</th>\n",
       "      <td>Braund, Mr. Owen Harris</td>\n",
       "      <td>male</td>\n",
       "      <td>347082</td>\n",
       "      <td>B96 B98</td>\n",
       "      <td>S</td>\n",
       "    </tr>\n",
       "    <tr>\n",
       "      <th>freq</th>\n",
       "      <td>1</td>\n",
       "      <td>577</td>\n",
       "      <td>7</td>\n",
       "      <td>4</td>\n",
       "      <td>644</td>\n",
       "    </tr>\n",
       "  </tbody>\n",
       "</table>\n",
       "</div>"
      ],
      "text/plain": [
       "                           Name   Sex  Ticket    Cabin Embarked\n",
       "count                       891   891     891      204      889\n",
       "unique                      891     2     681      147        3\n",
       "top     Braund, Mr. Owen Harris  male  347082  B96 B98        S\n",
       "freq                          1   577       7        4      644"
      ]
     },
     "execution_count": 5,
     "metadata": {},
     "output_type": "execute_result"
    }
   ],
   "source": [
    "#Review for categorical features (we can not calculate mean,max,mind,std)\n",
    "train.describe(include=['O'])"
   ]
  },
  {
   "cell_type": "code",
   "execution_count": 6,
   "id": "65730092",
   "metadata": {
    "execution": {
     "iopub.execute_input": "2022-12-03T22:11:20.944773Z",
     "iopub.status.busy": "2022-12-03T22:11:20.944214Z",
     "iopub.status.idle": "2022-12-03T22:11:21.215568Z",
     "shell.execute_reply": "2022-12-03T22:11:21.214474Z"
    },
    "papermill": {
     "duration": 0.281786,
     "end_time": "2022-12-03T22:11:21.218044",
     "exception": false,
     "start_time": "2022-12-03T22:11:20.936258",
     "status": "completed"
    },
    "tags": []
   },
   "outputs": [
    {
     "data": {
      "image/png": "[encoded data removed]",
      "text/plain": [
       "<Figure size 1296x576 with 2 Axes>"
      ]
     },
     "metadata": {
      "needs_background": "light"
     },
     "output_type": "display_data"
    }
   ],
   "source": [
    "f,ax=plt.subplots(1,2,figsize=(18,8))\n",
    "train['Survived'].value_counts().plot.pie(explode=[0,0.1],autopct='%1.1f%%',ax=ax[0],shadow=True)\n",
    "ax[0].set_title('Survived')\n",
    "ax[0].set_ylabel('')\n",
    "sns.countplot('Survived',data=train,ax=ax[1])\n",
    "ax[1].set_title('Survived')\n",
    "plt.show()"
   ]
  },
  {
   "cell_type": "markdown",
   "id": "1b63098a",
   "metadata": {
    "papermill": {
     "duration": 0.006973,
     "end_time": "2022-12-03T22:11:21.232585",
     "exception": false,
     "start_time": "2022-12-03T22:11:21.225612",
     "status": "completed"
    },
    "tags": []
   },
   "source": [
    "# Let's check if there is a pattern between the features and those who survived"
   ]
  },
  {
   "cell_type": "code",
   "execution_count": 7,
   "id": "3962e079",
   "metadata": {
    "execution": {
     "iopub.execute_input": "2022-12-03T22:11:21.249001Z",
     "iopub.status.busy": "2022-12-03T22:11:21.248610Z",
     "iopub.status.idle": "2022-12-03T22:11:21.266783Z",
     "shell.execute_reply": "2022-12-03T22:11:21.265556Z"
    },
    "papermill": {
     "duration": 0.029439,
     "end_time": "2022-12-03T22:11:21.269374",
     "exception": false,
     "start_time": "2022-12-03T22:11:21.239935",
     "status": "completed"
    },
    "tags": []
   },
   "outputs": [
    {
     "data": {
      "text/html": [
       "<div>\n",
       "<style scoped>\n",
       "    .dataframe tbody tr th:only-of-type {\n",
       "        vertical-align: middle;\n",
       "    }\n",
       "\n",
       "    .dataframe tbody tr th {\n",
       "        vertical-align: top;\n",
       "    }\n",
       "\n",
       "    .dataframe thead th {\n",
       "        text-align: right;\n",
       "    }\n",
       "</style>\n",
       "<table border=\"1\" class=\"dataframe\">\n",
       "  <thead>\n",
       "    <tr style=\"text-align: right;\">\n",
       "      <th></th>\n",
       "      <th>PassengerId</th>\n",
       "      <th>Pclass</th>\n",
       "      <th>Age</th>\n",
       "      <th>SibSp</th>\n",
       "      <th>Parch</th>\n",
       "      <th>Fare</th>\n",
       "    </tr>\n",
       "    <tr>\n",
       "      <th>Survived</th>\n",
       "      <th></th>\n",
       "      <th></th>\n",
       "      <th></th>\n",
       "      <th></th>\n",
       "      <th></th>\n",
       "      <th></th>\n",
       "    </tr>\n",
       "  </thead>\n",
       "  <tbody>\n",
       "    <tr>\n",
       "      <th>0</th>\n",
       "      <td>447.016393</td>\n",
       "      <td>2.531876</td>\n",
       "      <td>30.626179</td>\n",
       "      <td>0.553734</td>\n",
       "      <td>0.329690</td>\n",
       "      <td>22.117887</td>\n",
       "    </tr>\n",
       "    <tr>\n",
       "      <th>1</th>\n",
       "      <td>444.368421</td>\n",
       "      <td>1.950292</td>\n",
       "      <td>28.343690</td>\n",
       "      <td>0.473684</td>\n",
       "      <td>0.464912</td>\n",
       "      <td>48.395408</td>\n",
       "    </tr>\n",
       "  </tbody>\n",
       "</table>\n",
       "</div>"
      ],
      "text/plain": [
       "          PassengerId    Pclass        Age     SibSp     Parch       Fare\n",
       "Survived                                                                 \n",
       "0          447.016393  2.531876  30.626179  0.553734  0.329690  22.117887\n",
       "1          444.368421  1.950292  28.343690  0.473684  0.464912  48.395408"
      ]
     },
     "execution_count": 7,
     "metadata": {},
     "output_type": "execute_result"
    }
   ],
   "source": [
    "train.groupby('Survived').mean()"
   ]
  },
  {
   "cell_type": "markdown",
   "id": "82f84baf",
   "metadata": {
    "papermill": {
     "duration": 0.007111,
     "end_time": "2022-12-03T22:11:21.284073",
     "exception": false,
     "start_time": "2022-12-03T22:11:21.276962",
     "status": "completed"
    },
    "tags": []
   },
   "source": [
    "**From this brief check we can understand:**"
   ]
  },
  {
   "cell_type": "markdown",
   "id": "dd7275a4",
   "metadata": {
    "papermill": {
     "duration": 0.007058,
     "end_time": "2022-12-03T22:11:21.298571",
     "exception": false,
     "start_time": "2022-12-03T22:11:21.291513",
     "status": "completed"
    },
    "tags": []
   },
   "source": [
    "\n",
    "* People that did not survive paid for ticket less than survived people (big difference between values in Fare column)\n",
    "* People's class (Pclass) that did not survive close to 3rd class\n",
    "\n"
   ]
  },
  {
   "cell_type": "code",
   "execution_count": 8,
   "id": "a4075942",
   "metadata": {
    "execution": {
     "iopub.execute_input": "2022-12-03T22:11:21.316242Z",
     "iopub.status.busy": "2022-12-03T22:11:21.315199Z",
     "iopub.status.idle": "2022-12-03T22:11:21.419544Z",
     "shell.execute_reply": "2022-12-03T22:11:21.417968Z"
    },
    "papermill": {
     "duration": 0.116147,
     "end_time": "2022-12-03T22:11:21.422620",
     "exception": false,
     "start_time": "2022-12-03T22:11:21.306473",
     "status": "completed"
    },
    "tags": []
   },
   "outputs": [
    {
     "data": {
      "text/html": [
       "<style type=\"text/css\">\n",
       "#T_eda57_row0_col0, #T_eda57_row1_col1, #T_eda57_row1_col2 {\n",
       "  background-color: #ffff66;\n",
       "  color: #000000;\n",
       "}\n",
       "#T_eda57_row0_col1 {\n",
       "  background-color: #cee666;\n",
       "  color: #000000;\n",
       "}\n",
       "#T_eda57_row0_col2 {\n",
       "  background-color: #f4fa66;\n",
       "  color: #000000;\n",
       "}\n",
       "#T_eda57_row1_col0 {\n",
       "  background-color: #f6fa66;\n",
       "  color: #000000;\n",
       "}\n",
       "#T_eda57_row2_col0 {\n",
       "  background-color: #60b066;\n",
       "  color: #f1f1f1;\n",
       "}\n",
       "#T_eda57_row2_col1 {\n",
       "  background-color: #dfef66;\n",
       "  color: #000000;\n",
       "}\n",
       "#T_eda57_row2_col2 {\n",
       "  background-color: #90c866;\n",
       "  color: #000000;\n",
       "}\n",
       "#T_eda57_row3_col0, #T_eda57_row3_col1, #T_eda57_row3_col2 {\n",
       "  background-color: #008066;\n",
       "  color: #f1f1f1;\n",
       "}\n",
       "</style>\n",
       "<table id=\"T_eda57_\">\n",
       "  <thead>\n",
       "    <tr>\n",
       "      <th class=\"index_name level0\" >Survived</th>\n",
       "      <th class=\"col_heading level0 col0\" >0</th>\n",
       "      <th class=\"col_heading level0 col1\" >1</th>\n",
       "      <th class=\"col_heading level0 col2\" >All</th>\n",
       "    </tr>\n",
       "    <tr>\n",
       "      <th class=\"index_name level0\" >Pclass</th>\n",
       "      <th class=\"blank col0\" >&nbsp;</th>\n",
       "      <th class=\"blank col1\" >&nbsp;</th>\n",
       "      <th class=\"blank col2\" >&nbsp;</th>\n",
       "    </tr>\n",
       "  </thead>\n",
       "  <tbody>\n",
       "    <tr>\n",
       "      <th id=\"T_eda57_level0_row0\" class=\"row_heading level0 row0\" >1</th>\n",
       "      <td id=\"T_eda57_row0_col0\" class=\"data row0 col0\" >80</td>\n",
       "      <td id=\"T_eda57_row0_col1\" class=\"data row0 col1\" >136</td>\n",
       "      <td id=\"T_eda57_row0_col2\" class=\"data row0 col2\" >216</td>\n",
       "    </tr>\n",
       "    <tr>\n",
       "      <th id=\"T_eda57_level0_row1\" class=\"row_heading level0 row1\" >2</th>\n",
       "      <td id=\"T_eda57_row1_col0\" class=\"data row1 col0\" >97</td>\n",
       "      <td id=\"T_eda57_row1_col1\" class=\"data row1 col1\" >87</td>\n",
       "      <td id=\"T_eda57_row1_col2\" class=\"data row1 col2\" >184</td>\n",
       "    </tr>\n",
       "    <tr>\n",
       "      <th id=\"T_eda57_level0_row2\" class=\"row_heading level0 row2\" >3</th>\n",
       "      <td id=\"T_eda57_row2_col0\" class=\"data row2 col0\" >372</td>\n",
       "      <td id=\"T_eda57_row2_col1\" class=\"data row2 col1\" >119</td>\n",
       "      <td id=\"T_eda57_row2_col2\" class=\"data row2 col2\" >491</td>\n",
       "    </tr>\n",
       "    <tr>\n",
       "      <th id=\"T_eda57_level0_row3\" class=\"row_heading level0 row3\" >All</th>\n",
       "      <td id=\"T_eda57_row3_col0\" class=\"data row3 col0\" >549</td>\n",
       "      <td id=\"T_eda57_row3_col1\" class=\"data row3 col1\" >342</td>\n",
       "      <td id=\"T_eda57_row3_col2\" class=\"data row3 col2\" >891</td>\n",
       "    </tr>\n",
       "  </tbody>\n",
       "</table>\n"
      ],
      "text/plain": [
       "<pandas.io.formats.style.Styler at 0x7f7542868f50>"
      ]
     },
     "execution_count": 8,
     "metadata": {},
     "output_type": "execute_result"
    }
   ],
   "source": [
    "pd.crosstab(train.Pclass,train.Survived,margins=True).style.background_gradient(cmap='summer_r')"
   ]
  },
  {
   "cell_type": "code",
   "execution_count": 9,
   "id": "7b106d43",
   "metadata": {
    "execution": {
     "iopub.execute_input": "2022-12-03T22:11:21.440223Z",
     "iopub.status.busy": "2022-12-03T22:11:21.439770Z",
     "iopub.status.idle": "2022-12-03T22:11:21.706069Z",
     "shell.execute_reply": "2022-12-03T22:11:21.705172Z"
    },
    "papermill": {
     "duration": 0.278671,
     "end_time": "2022-12-03T22:11:21.709205",
     "exception": false,
     "start_time": "2022-12-03T22:11:21.430534",
     "status": "completed"
    },
    "tags": []
   },
   "outputs": [
    {
     "data": {
      "image/png": "[encoded data removed]",
      "text/plain": [
       "<Figure size 1296x576 with 2 Axes>"
      ]
     },
     "metadata": {
      "needs_background": "light"
     },
     "output_type": "display_data"
    }
   ],
   "source": [
    "f,ax=plt.subplots(1,2,figsize=(18,8))\n",
    "train['Pclass'].value_counts().plot.bar(color=['#CD7F32','#FFDF00','#D3D3D3'],ax=ax[0])\n",
    "ax[0].set_title('Number Of Passengers By Pclass')\n",
    "ax[0].set_ylabel('Num of passengers')\n",
    "sns.countplot('Pclass',hue='Survived',data=train,ax=ax[1])\n",
    "ax[1].set_title('Pclass:Survived vs Dead')\n",
    "ax[1].set_ylabel('Num of passengers')\n",
    "plt.show()"
   ]
  },
  {
   "cell_type": "markdown",
   "id": "f8f7541b",
   "metadata": {
    "papermill": {
     "duration": 0.008423,
     "end_time": "2022-12-03T22:11:21.726917",
     "exception": false,
     "start_time": "2022-12-03T22:11:21.718494",
     "status": "completed"
    },
    "tags": []
   },
   "source": [
    "# Brief conclusion untill now:"
   ]
  },
  {
   "cell_type": "markdown",
   "id": "2e0c4395",
   "metadata": {
    "papermill": {
     "duration": 0.007668,
     "end_time": "2022-12-03T22:11:21.742600",
     "exception": false,
     "start_time": "2022-12-03T22:11:21.734932",
     "status": "completed"
    },
    "tags": []
   },
   "source": [
    "**People that had first or second class and paid for ticket more money had more chances to survive than \"poor\" people that had 3rd class and paid for ticket less. (Also we can remember it from the film Titanic =) ).**"
   ]
  },
  {
   "cell_type": "markdown",
   "id": "ed5d9c3a",
   "metadata": {
    "papermill": {
     "duration": 0.007885,
     "end_time": "2022-12-03T22:11:21.758476",
     "exception": false,
     "start_time": "2022-12-03T22:11:21.750591",
     "status": "completed"
    },
    "tags": []
   },
   "source": [
    "# Check missing data"
   ]
  },
  {
   "cell_type": "code",
   "execution_count": 10,
   "id": "5066d762",
   "metadata": {
    "execution": {
     "iopub.execute_input": "2022-12-03T22:11:21.777578Z",
     "iopub.status.busy": "2022-12-03T22:11:21.776520Z",
     "iopub.status.idle": "2022-12-03T22:11:21.787723Z",
     "shell.execute_reply": "2022-12-03T22:11:21.786600Z"
    },
    "papermill": {
     "duration": 0.023655,
     "end_time": "2022-12-03T22:11:21.790342",
     "exception": false,
     "start_time": "2022-12-03T22:11:21.766687",
     "status": "completed"
    },
    "tags": []
   },
   "outputs": [
    {
     "data": {
      "text/plain": [
       "PassengerId      0\n",
       "Survived         0\n",
       "Pclass           0\n",
       "Name             0\n",
       "Sex              0\n",
       "Age            177\n",
       "SibSp            0\n",
       "Parch            0\n",
       "Ticket           0\n",
       "Fare             0\n",
       "Cabin          687\n",
       "Embarked         2\n",
       "dtype: int64"
      ]
     },
     "execution_count": 10,
     "metadata": {},
     "output_type": "execute_result"
    }
   ],
   "source": [
    "train.isna().sum()"
   ]
  },
  {
   "cell_type": "markdown",
   "id": "6a3135c1",
   "metadata": {
    "papermill": {
     "duration": 0.008207,
     "end_time": "2022-12-03T22:11:21.807226",
     "exception": false,
     "start_time": "2022-12-03T22:11:21.799019",
     "status": "completed"
    },
    "tags": []
   },
   "source": [
    "As we can see, there are 177 entries without age value and 2 entries withou cities."
   ]
  },
  {
   "cell_type": "markdown",
   "id": "f7a266ac",
   "metadata": {
    "papermill": {
     "duration": 0.008399,
     "end_time": "2022-12-03T22:11:21.823781",
     "exception": false,
     "start_time": "2022-12-03T22:11:21.815382",
     "status": "completed"
    },
    "tags": []
   },
   "source": [
    "We want to understand it beacuse it is a lot of data. If 177 ages are missing because of some reason or it is a random mistake of Titanic's personal that did not write people's age. "
   ]
  },
  {
   "cell_type": "code",
   "execution_count": 11,
   "id": "c147e504",
   "metadata": {
    "execution": {
     "iopub.execute_input": "2022-12-03T22:11:21.842145Z",
     "iopub.status.busy": "2022-12-03T22:11:21.841491Z",
     "iopub.status.idle": "2022-12-03T22:11:21.859222Z",
     "shell.execute_reply": "2022-12-03T22:11:21.857574Z"
    },
    "papermill": {
     "duration": 0.029739,
     "end_time": "2022-12-03T22:11:21.861752",
     "exception": false,
     "start_time": "2022-12-03T22:11:21.832013",
     "status": "completed"
    },
    "tags": []
   },
   "outputs": [
    {
     "data": {
      "text/html": [
       "<div>\n",
       "<style scoped>\n",
       "    .dataframe tbody tr th:only-of-type {\n",
       "        vertical-align: middle;\n",
       "    }\n",
       "\n",
       "    .dataframe tbody tr th {\n",
       "        vertical-align: top;\n",
       "    }\n",
       "\n",
       "    .dataframe thead th {\n",
       "        text-align: right;\n",
       "    }\n",
       "</style>\n",
       "<table border=\"1\" class=\"dataframe\">\n",
       "  <thead>\n",
       "    <tr style=\"text-align: right;\">\n",
       "      <th></th>\n",
       "      <th>PassengerId</th>\n",
       "      <th>Survived</th>\n",
       "      <th>Pclass</th>\n",
       "      <th>Age</th>\n",
       "      <th>SibSp</th>\n",
       "      <th>Parch</th>\n",
       "      <th>Fare</th>\n",
       "    </tr>\n",
       "    <tr>\n",
       "      <th>Age</th>\n",
       "      <th></th>\n",
       "      <th></th>\n",
       "      <th></th>\n",
       "      <th></th>\n",
       "      <th></th>\n",
       "      <th></th>\n",
       "      <th></th>\n",
       "    </tr>\n",
       "  </thead>\n",
       "  <tbody>\n",
       "    <tr>\n",
       "      <th>False</th>\n",
       "      <td>448.582633</td>\n",
       "      <td>0.406162</td>\n",
       "      <td>2.236695</td>\n",
       "      <td>29.699118</td>\n",
       "      <td>0.512605</td>\n",
       "      <td>0.431373</td>\n",
       "      <td>34.694514</td>\n",
       "    </tr>\n",
       "    <tr>\n",
       "      <th>True</th>\n",
       "      <td>435.581921</td>\n",
       "      <td>0.293785</td>\n",
       "      <td>2.598870</td>\n",
       "      <td>NaN</td>\n",
       "      <td>0.564972</td>\n",
       "      <td>0.180791</td>\n",
       "      <td>22.158567</td>\n",
       "    </tr>\n",
       "  </tbody>\n",
       "</table>\n",
       "</div>"
      ],
      "text/plain": [
       "       PassengerId  Survived    Pclass        Age     SibSp     Parch  \\\n",
       "Age                                                                     \n",
       "False   448.582633  0.406162  2.236695  29.699118  0.512605  0.431373   \n",
       "True    435.581921  0.293785  2.598870        NaN  0.564972  0.180791   \n",
       "\n",
       "            Fare  \n",
       "Age               \n",
       "False  34.694514  \n",
       "True   22.158567  "
      ]
     },
     "execution_count": 11,
     "metadata": {},
     "output_type": "execute_result"
    }
   ],
   "source": [
    "train.groupby(train['Age'].isnull()).mean()"
   ]
  },
  {
   "cell_type": "markdown",
   "id": "9b67c8ea",
   "metadata": {
    "papermill": {
     "duration": 0.007926,
     "end_time": "2022-12-03T22:11:21.877979",
     "exception": false,
     "start_time": "2022-12-03T22:11:21.870053",
     "status": "completed"
    },
    "tags": []
   },
   "source": [
    "From train.groupby(train['Age'].isnull()).mean() we can understand that people without age and paid less on ticket (Fare) with \"low\" 3rd class had less chances to survive."
   ]
  },
  {
   "cell_type": "code",
   "execution_count": 12,
   "id": "fbee4a0d",
   "metadata": {
    "execution": {
     "iopub.execute_input": "2022-12-03T22:11:21.898005Z",
     "iopub.status.busy": "2022-12-03T22:11:21.897513Z",
     "iopub.status.idle": "2022-12-03T22:11:22.610993Z",
     "shell.execute_reply": "2022-12-03T22:11:22.609878Z"
    },
    "papermill": {
     "duration": 0.726138,
     "end_time": "2022-12-03T22:11:22.613112",
     "exception": false,
     "start_time": "2022-12-03T22:11:21.886974",
     "status": "completed"
    },
    "tags": []
   },
   "outputs": [
    {
     "data": {
      "image/png": "[encoded data removed]",
      "text/plain": [
       "<Figure size 432x288 with 1 Axes>"
      ]
     },
     "metadata": {
      "needs_background": "light"
     },
     "output_type": "display_data"
    },
    {
     "data": {
      "image/png": "[encoded data removed]",
      "text/plain": [
       "<Figure size 432x288 with 1 Axes>"
      ]
     },
     "metadata": {
      "needs_background": "light"
     },
     "output_type": "display_data"
    }
   ],
   "source": [
    "for i in ['Age', 'Fare']:\n",
    "  died = list(train[train['Survived'] == 0][i].dropna())\n",
    "  survived = list(train[train['Survived'] == 1][i].dropna())\n",
    "  xmin = min(min(died), min(survived))\n",
    "  xmax = max(max(died), max(survived))\n",
    "  width = (xmax - xmin) / 40\n",
    "  sns.distplot(died, color='r', kde=False, bins=np.arange(xmin, xmax, width))\n",
    "  sns.distplot(survived, color='g', kde=False, bins=np.arange(xmin, xmax, width))\n",
    "  plt.legend(['Did not survive', 'Survived'])\n",
    "  plt.title('Overlaid histogram for {}'.format(i))\n",
    "  plt.ylabel('Num of passengers')\n",
    "  plt.xlabel('{}'.format(i))\n",
    "  plt.show()"
   ]
  },
  {
   "cell_type": "markdown",
   "id": "d72041d8",
   "metadata": {
    "papermill": {
     "duration": 0.008821,
     "end_time": "2022-12-03T22:11:22.630945",
     "exception": false,
     "start_time": "2022-12-03T22:11:22.622124",
     "status": "completed"
    },
    "tags": []
   },
   "source": [
    "From the Overlaid histogram for Fare histogram we can say that the cost of tocket (Fare) is a good indicator to say if person survive or not."
   ]
  },
  {
   "cell_type": "code",
   "execution_count": 13,
   "id": "c8607919",
   "metadata": {
    "execution": {
     "iopub.execute_input": "2022-12-03T22:11:22.650659Z",
     "iopub.status.busy": "2022-12-03T22:11:22.650255Z",
     "iopub.status.idle": "2022-12-03T22:11:23.397096Z",
     "shell.execute_reply": "2022-12-03T22:11:23.395593Z"
    },
    "papermill": {
     "duration": 0.760285,
     "end_time": "2022-12-03T22:11:23.400154",
     "exception": false,
     "start_time": "2022-12-03T22:11:22.639869",
     "status": "completed"
    },
    "tags": []
   },
   "outputs": [
    {
     "data": {
      "text/plain": [
       "<Figure size 432x288 with 0 Axes>"
      ]
     },
     "metadata": {},
     "output_type": "display_data"
    },
    {
     "data": {
      "image/png": "[encoded data removed]",
      "text/plain": [
       "<Figure size 720x360 with 1 Axes>"
      ]
     },
     "metadata": {
      "needs_background": "light"
     },
     "output_type": "display_data"
    },
    {
     "data": {
      "image/png": "[encoded data removed]",
      "text/plain": [
       "<Figure size 720x360 with 1 Axes>"
      ]
     },
     "metadata": {
      "needs_background": "light"
     },
     "output_type": "display_data"
    }
   ],
   "source": [
    "for i, col in enumerate(['SibSp', 'Parch']):\n",
    "  plt.figure(i)\n",
    "  sns.catplot(x=col, y='Survived', data=train, kind='point', aspect=2,)"
   ]
  },
  {
   "cell_type": "markdown",
   "id": "20e52fe4",
   "metadata": {
    "papermill": {
     "duration": 0.010335,
     "end_time": "2022-12-03T22:11:23.423232",
     "exception": false,
     "start_time": "2022-12-03T22:11:23.412897",
     "status": "completed"
    },
    "tags": []
   },
   "source": [
    "From the 2nd and 3rd graph we see that features SibSp and Parch has similar behavior. So let's look on correlation of features."
   ]
  },
  {
   "cell_type": "code",
   "execution_count": 14,
   "id": "d7e9e0d9",
   "metadata": {
    "execution": {
     "iopub.execute_input": "2022-12-03T22:11:23.445476Z",
     "iopub.status.busy": "2022-12-03T22:11:23.445043Z",
     "iopub.status.idle": "2022-12-03T22:11:23.835742Z",
     "shell.execute_reply": "2022-12-03T22:11:23.834281Z"
    },
    "papermill": {
     "duration": 0.404561,
     "end_time": "2022-12-03T22:11:23.837950",
     "exception": false,
     "start_time": "2022-12-03T22:11:23.433389",
     "status": "completed"
    },
    "tags": []
   },
   "outputs": [
    {
     "data": {
      "image/png": "[encoded data removed]",
      "text/plain": [
       "<Figure size 720x576 with 2 Axes>"
      ]
     },
     "metadata": {
      "needs_background": "light"
     },
     "output_type": "display_data"
    }
   ],
   "source": [
    "sns.heatmap(train.corr(),annot=True,cmap='RdYlGn',linewidths=0.2) \n",
    "fig=plt.gcf()\n",
    "fig.set_size_inches(10,8)\n",
    "plt.show()"
   ]
  },
  {
   "cell_type": "markdown",
   "id": "7cef6242",
   "metadata": {
    "papermill": {
     "duration": 0.012802,
     "end_time": "2022-12-03T22:11:23.864882",
     "exception": false,
     "start_time": "2022-12-03T22:11:23.852080",
     "status": "completed"
    },
    "tags": []
   },
   "source": [
    "From the heatmap we see that actually all the correlations has a small value , so we do not need to concat or delete some features."
   ]
  },
  {
   "cell_type": "markdown",
   "id": "f9b36208",
   "metadata": {
    "papermill": {
     "duration": 0.009516,
     "end_time": "2022-12-03T22:11:23.884399",
     "exception": false,
     "start_time": "2022-12-03T22:11:23.874883",
     "status": "completed"
    },
    "tags": []
   },
   "source": [
    "As we saw before, we have a lot of missing values of age. So we will fill up them with a mean value of age."
   ]
  },
  {
   "cell_type": "code",
   "execution_count": 15,
   "id": "ae3e3fbe",
   "metadata": {
    "execution": {
     "iopub.execute_input": "2022-12-03T22:11:23.905957Z",
     "iopub.status.busy": "2022-12-03T22:11:23.905121Z",
     "iopub.status.idle": "2022-12-03T22:11:23.913997Z",
     "shell.execute_reply": "2022-12-03T22:11:23.913112Z"
    },
    "papermill": {
     "duration": 0.021548,
     "end_time": "2022-12-03T22:11:23.915807",
     "exception": false,
     "start_time": "2022-12-03T22:11:23.894259",
     "status": "completed"
    },
    "tags": []
   },
   "outputs": [
    {
     "data": {
      "text/plain": [
       "PassengerId      0\n",
       "Survived         0\n",
       "Pclass           0\n",
       "Name             0\n",
       "Sex              0\n",
       "Age            177\n",
       "SibSp            0\n",
       "Parch            0\n",
       "Ticket           0\n",
       "Fare             0\n",
       "Cabin          687\n",
       "Embarked         2\n",
       "dtype: int64"
      ]
     },
     "execution_count": 15,
     "metadata": {},
     "output_type": "execute_result"
    }
   ],
   "source": [
    "train.isna().sum()"
   ]
  },
  {
   "cell_type": "code",
   "execution_count": 16,
   "id": "ada5d4ac",
   "metadata": {
    "execution": {
     "iopub.execute_input": "2022-12-03T22:11:23.938081Z",
     "iopub.status.busy": "2022-12-03T22:11:23.936505Z",
     "iopub.status.idle": "2022-12-03T22:11:23.947489Z",
     "shell.execute_reply": "2022-12-03T22:11:23.946527Z"
    },
    "papermill": {
     "duration": 0.02382,
     "end_time": "2022-12-03T22:11:23.949531",
     "exception": false,
     "start_time": "2022-12-03T22:11:23.925711",
     "status": "completed"
    },
    "tags": []
   },
   "outputs": [
    {
     "data": {
      "text/plain": [
       "PassengerId      0\n",
       "Survived         0\n",
       "Pclass           0\n",
       "Name             0\n",
       "Sex              0\n",
       "Age              0\n",
       "SibSp            0\n",
       "Parch            0\n",
       "Ticket           0\n",
       "Fare             0\n",
       "Cabin          687\n",
       "Embarked         2\n",
       "dtype: int64"
      ]
     },
     "execution_count": 16,
     "metadata": {},
     "output_type": "execute_result"
    }
   ],
   "source": [
    "train['Age'].fillna(train['Age'].mean(), inplace=True)\n",
    "train.isnull().sum()"
   ]
  },
  {
   "cell_type": "code",
   "execution_count": null,
   "id": "0f66f2c9",
   "metadata": {
    "papermill": {
     "duration": 0.009796,
     "end_time": "2022-12-03T22:11:23.969284",
     "exception": false,
     "start_time": "2022-12-03T22:11:23.959488",
     "status": "completed"
    },
    "tags": []
   },
   "outputs": [],
   "source": []
  }
 ],
 "metadata": {
  "kernelspec": {
   "display_name": "Python 3",
   "language": "python",
   "name": "python3"
  },
  "language_info": {
   "codemirror_mode": {
    "name": "ipython",
    "version": 3
   },
   "file_extension": ".py",
   "mimetype": "text/x-python",
   "name": "python",
   "nbconvert_exporter": "python",
   "pygments_lexer": "ipython3",
   "version": "3.7.12"
  },
  "papermill": {
   "default_parameters": {},
   "duration": 14.289834,
   "end_time": "2022-12-03T22:11:24.801940",
   "environment_variables": {},
   "exception": null,
   "input_path": "__notebook__.ipynb",
   "output_path": "__notebook__.ipynb",
   "parameters": {},
   "start_time": "2022-12-03T22:11:10.512106",
   "version": "2.3.4"
  }
 },
 "nbformat": 4,
 "nbformat_minor": 5
}
